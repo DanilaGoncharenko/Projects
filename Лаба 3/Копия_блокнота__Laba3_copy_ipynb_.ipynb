{
 "cells": [
  {
   "cell_type": "code",
   "execution_count": 2,
   "metadata": {
    "colab": {
     "base_uri": "https://localhost:8080/"
    },
    "id": "sHLE5kFmLtXv",
    "outputId": "1c11d866-52ee-4ff7-880d-8751a44eda32"
   },
   "outputs": [
    {
     "ename": "ModuleNotFoundError",
     "evalue": "No module named 'google.colab'",
     "output_type": "error",
     "traceback": [
      "\u001b[1;31m---------------------------------------------------------------------------\u001b[0m",
      "\u001b[1;31mModuleNotFoundError\u001b[0m                       Traceback (most recent call last)",
      "Cell \u001b[1;32mIn[2], line 1\u001b[0m\n\u001b[1;32m----> 1\u001b[0m \u001b[38;5;28;01mfrom\u001b[39;00m \u001b[38;5;21;01mgoogle\u001b[39;00m\u001b[38;5;21;01m.\u001b[39;00m\u001b[38;5;21;01mcolab\u001b[39;00m \u001b[38;5;28;01mimport\u001b[39;00m drive\n\u001b[0;32m      2\u001b[0m drive\u001b[38;5;241m.\u001b[39mmount(\u001b[38;5;124m'\u001b[39m\u001b[38;5;124m/content/drive\u001b[39m\u001b[38;5;124m'\u001b[39m)\n",
      "\u001b[1;31mModuleNotFoundError\u001b[0m: No module named 'google.colab'"
     ]
    }
   ],
   "source": [
    "from google.colab import drive\n",
    "drive.mount('/content/drive')"
   ]
  },
  {
   "cell_type": "code",
   "execution_count": 1,
   "metadata": {
    "colab": {
     "base_uri": "https://localhost:8080/"
    },
    "id": "5svyFZpWn3jK",
    "outputId": "b4cfe1c0-caf6-40bd-a213-13697924da4d"
   },
   "outputs": [
    {
     "name": "stdout",
     "output_type": "stream",
     "text": [
      "Requirement already satisfied: onnx in c:\\users\\dell\\appdata\\local\\programs\\python\\python311\\lib\\site-packages (1.17.0)\n",
      "Requirement already satisfied: numpy>=1.20 in c:\\users\\dell\\appdata\\local\\programs\\python\\python311\\lib\\site-packages (from onnx) (1.26.4)\n",
      "Requirement already satisfied: protobuf>=3.20.2 in c:\\users\\dell\\appdata\\local\\programs\\python\\python311\\lib\\site-packages (from onnx) (3.20.2)\n",
      "Note: you may need to restart the kernel to use updated packages.\n"
     ]
    }
   ],
   "source": [
    "pip install onnx"
   ]
  },
  {
   "cell_type": "code",
   "execution_count": 2,
   "metadata": {
    "colab": {
     "base_uri": "https://localhost:8080/"
    },
    "id": "5ckrns7Fn8Ry",
    "outputId": "6565b713-f11b-4dec-e5e6-eb4a1a9bc4b8"
   },
   "outputs": [
    {
     "name": "stdout",
     "output_type": "stream",
     "text": [
      "Collecting skl2onnx\n",
      "  Using cached skl2onnx-1.17.0-py2.py3-none-any.whl.metadata (3.2 kB)\n",
      "Requirement already satisfied: onnx>=1.2.1 in c:\\users\\dell\\appdata\\local\\programs\\python\\python311\\lib\\site-packages (from skl2onnx) (1.17.0)\n",
      "Requirement already satisfied: scikit-learn>=1.1 in c:\\users\\dell\\appdata\\local\\programs\\python\\python311\\lib\\site-packages (from skl2onnx) (1.5.2)\n",
      "Requirement already satisfied: onnxconverter-common>=1.7.0 in c:\\users\\dell\\appdata\\local\\programs\\python\\python311\\lib\\site-packages (from skl2onnx) (1.14.0)\n",
      "Requirement already satisfied: numpy>=1.20 in c:\\users\\dell\\appdata\\local\\programs\\python\\python311\\lib\\site-packages (from onnx>=1.2.1->skl2onnx) (1.26.4)\n",
      "Requirement already satisfied: protobuf>=3.20.2 in c:\\users\\dell\\appdata\\local\\programs\\python\\python311\\lib\\site-packages (from onnx>=1.2.1->skl2onnx) (3.20.2)\n",
      "Requirement already satisfied: packaging in c:\\users\\dell\\appdata\\roaming\\python\\python311\\site-packages (from onnxconverter-common>=1.7.0->skl2onnx) (24.1)\n",
      "Requirement already satisfied: scipy>=1.6.0 in c:\\users\\dell\\appdata\\local\\programs\\python\\python311\\lib\\site-packages (from scikit-learn>=1.1->skl2onnx) (1.14.1)\n",
      "Requirement already satisfied: joblib>=1.2.0 in c:\\users\\dell\\appdata\\local\\programs\\python\\python311\\lib\\site-packages (from scikit-learn>=1.1->skl2onnx) (1.4.2)\n",
      "Requirement already satisfied: threadpoolctl>=3.1.0 in c:\\users\\dell\\appdata\\local\\programs\\python\\python311\\lib\\site-packages (from scikit-learn>=1.1->skl2onnx) (3.5.0)\n",
      "Using cached skl2onnx-1.17.0-py2.py3-none-any.whl (298 kB)\n",
      "Installing collected packages: skl2onnx\n",
      "Successfully installed skl2onnx-1.17.0\n",
      "Note: you may need to restart the kernel to use updated packages.\n"
     ]
    }
   ],
   "source": [
    "pip install skl2onnx"
   ]
  },
  {
   "cell_type": "code",
   "execution_count": 3,
   "metadata": {
    "colab": {
     "base_uri": "https://localhost:8080/"
    },
    "id": "EG3M9n1in98R",
    "outputId": "d8975091-0c54-4f1f-d482-7f7c9598723a"
   },
   "outputs": [
    {
     "name": "stdout",
     "output_type": "stream",
     "text": [
      "Requirement already satisfied: onnxruntime in c:\\users\\dell\\appdata\\local\\programs\\python\\python311\\lib\\site-packages (1.20.1)\n",
      "Requirement already satisfied: coloredlogs in c:\\users\\dell\\appdata\\local\\programs\\python\\python311\\lib\\site-packages (from onnxruntime) (15.0.1)\n",
      "Requirement already satisfied: flatbuffers in c:\\users\\dell\\appdata\\local\\programs\\python\\python311\\lib\\site-packages (from onnxruntime) (24.3.25)\n",
      "Requirement already satisfied: numpy>=1.21.6 in c:\\users\\dell\\appdata\\local\\programs\\python\\python311\\lib\\site-packages (from onnxruntime) (1.26.4)\n",
      "Requirement already satisfied: packaging in c:\\users\\dell\\appdata\\roaming\\python\\python311\\site-packages (from onnxruntime) (24.1)\n",
      "Requirement already satisfied: protobuf in c:\\users\\dell\\appdata\\local\\programs\\python\\python311\\lib\\site-packages (from onnxruntime) (3.20.2)\n",
      "Requirement already satisfied: sympy in c:\\users\\dell\\appdata\\local\\programs\\python\\python311\\lib\\site-packages (from onnxruntime) (1.13.1)\n",
      "Requirement already satisfied: humanfriendly>=9.1 in c:\\users\\dell\\appdata\\local\\programs\\python\\python311\\lib\\site-packages (from coloredlogs->onnxruntime) (10.0)\n",
      "Requirement already satisfied: mpmath<1.4,>=1.1.0 in c:\\users\\dell\\appdata\\local\\programs\\python\\python311\\lib\\site-packages (from sympy->onnxruntime) (1.3.0)\n",
      "Requirement already satisfied: pyreadline3 in c:\\users\\dell\\appdata\\local\\programs\\python\\python311\\lib\\site-packages (from humanfriendly>=9.1->coloredlogs->onnxruntime) (3.5.4)\n",
      "Note: you may need to restart the kernel to use updated packages.\n"
     ]
    }
   ],
   "source": [
    "pip install onnxruntime"
   ]
  },
  {
   "cell_type": "code",
   "execution_count": 4,
   "metadata": {
    "colab": {
     "base_uri": "https://localhost:8080/"
    },
    "id": "LvXXwntM6TWa",
    "outputId": "84992320-6cb5-4525-9738-8e1048c66259"
   },
   "outputs": [
    {
     "name": "stdout",
     "output_type": "stream",
     "text": [
      "Requirement already satisfied: bentoml in c:\\users\\dell\\appdata\\local\\programs\\python\\python311\\lib\\site-packages (1.3.15)\n",
      "Requirement already satisfied: a2wsgi>=1.10.7 in c:\\users\\dell\\appdata\\local\\programs\\python\\python311\\lib\\site-packages (from bentoml) (1.10.7)\n",
      "Requirement already satisfied: aiohttp in c:\\users\\dell\\appdata\\local\\programs\\python\\python311\\lib\\site-packages (from bentoml) (3.10.10)\n",
      "Requirement already satisfied: aiosqlite>=0.20.0 in c:\\users\\dell\\appdata\\local\\programs\\python\\python311\\lib\\site-packages (from bentoml) (0.20.0)\n",
      "Requirement already satisfied: attrs>=22.2.0 in c:\\users\\dell\\appdata\\local\\programs\\python\\python311\\lib\\site-packages (from bentoml) (24.2.0)\n",
      "Requirement already satisfied: cattrs<23.2.0,>=22.1.0 in c:\\users\\dell\\appdata\\local\\programs\\python\\python311\\lib\\site-packages (from bentoml) (23.1.2)\n",
      "Requirement already satisfied: circus!=0.17.2,>=0.17.0 in c:\\users\\dell\\appdata\\local\\programs\\python\\python311\\lib\\site-packages (from bentoml) (0.18.0)\n",
      "Requirement already satisfied: click-option-group in c:\\users\\dell\\appdata\\local\\programs\\python\\python311\\lib\\site-packages (from bentoml) (0.5.6)\n",
      "Requirement already satisfied: click>=7.0 in c:\\users\\dell\\appdata\\local\\programs\\python\\python311\\lib\\site-packages (from bentoml) (8.1.7)\n",
      "Requirement already satisfied: cloudpickle>=2.0.0 in c:\\users\\dell\\appdata\\local\\programs\\python\\python311\\lib\\site-packages (from bentoml) (3.1.0)\n",
      "Requirement already satisfied: deepmerge in c:\\users\\dell\\appdata\\local\\programs\\python\\python311\\lib\\site-packages (from bentoml) (2.0)\n",
      "Requirement already satisfied: fs in c:\\users\\dell\\appdata\\local\\programs\\python\\python311\\lib\\site-packages (from bentoml) (2.4.16)\n",
      "Requirement already satisfied: httpx in c:\\users\\dell\\appdata\\local\\programs\\python\\python311\\lib\\site-packages (from bentoml) (0.28.0)\n",
      "Requirement already satisfied: httpx-ws>=0.6.0 in c:\\users\\dell\\appdata\\local\\programs\\python\\python311\\lib\\site-packages (from bentoml) (0.6.2)\n",
      "Requirement already satisfied: inflection in c:\\users\\dell\\appdata\\local\\programs\\python\\python311\\lib\\site-packages (from bentoml) (0.5.1)\n",
      "Requirement already satisfied: jinja2>=3.0.1 in c:\\users\\dell\\appdata\\local\\programs\\python\\python311\\lib\\site-packages (from bentoml) (3.1.4)\n",
      "Requirement already satisfied: numpy in c:\\users\\dell\\appdata\\local\\programs\\python\\python311\\lib\\site-packages (from bentoml) (1.26.4)\n",
      "Requirement already satisfied: nvidia-ml-py in c:\\users\\dell\\appdata\\local\\programs\\python\\python311\\lib\\site-packages (from bentoml) (12.560.30)\n",
      "Requirement already satisfied: opentelemetry-api==1.20.0 in c:\\users\\dell\\appdata\\local\\programs\\python\\python311\\lib\\site-packages (from bentoml) (1.20.0)\n",
      "Requirement already satisfied: opentelemetry-instrumentation-aiohttp-client==0.41b0 in c:\\users\\dell\\appdata\\local\\programs\\python\\python311\\lib\\site-packages (from bentoml) (0.41b0)\n",
      "Requirement already satisfied: opentelemetry-instrumentation-asgi==0.41b0 in c:\\users\\dell\\appdata\\local\\programs\\python\\python311\\lib\\site-packages (from bentoml) (0.41b0)\n",
      "Requirement already satisfied: opentelemetry-instrumentation==0.41b0 in c:\\users\\dell\\appdata\\local\\programs\\python\\python311\\lib\\site-packages (from bentoml) (0.41b0)\n",
      "Requirement already satisfied: opentelemetry-sdk==1.20.0 in c:\\users\\dell\\appdata\\local\\programs\\python\\python311\\lib\\site-packages (from bentoml) (1.20.0)\n",
      "Requirement already satisfied: opentelemetry-semantic-conventions==0.41b0 in c:\\users\\dell\\appdata\\local\\programs\\python\\python311\\lib\\site-packages (from bentoml) (0.41b0)\n",
      "Requirement already satisfied: opentelemetry-util-http==0.41b0 in c:\\users\\dell\\appdata\\local\\programs\\python\\python311\\lib\\site-packages (from bentoml) (0.41b0)\n",
      "Requirement already satisfied: packaging>=22.0 in c:\\users\\dell\\appdata\\roaming\\python\\python311\\site-packages (from bentoml) (24.1)\n",
      "Requirement already satisfied: pathspec in c:\\users\\dell\\appdata\\local\\programs\\python\\python311\\lib\\site-packages (from bentoml) (0.12.1)\n",
      "Requirement already satisfied: pip-requirements-parser>=31.2.0 in c:\\users\\dell\\appdata\\local\\programs\\python\\python311\\lib\\site-packages (from bentoml) (32.0.1)\n",
      "Requirement already satisfied: prometheus-client>=0.10.0 in c:\\users\\dell\\appdata\\local\\programs\\python\\python311\\lib\\site-packages (from bentoml) (0.21.1)\n",
      "Requirement already satisfied: psutil in c:\\users\\dell\\appdata\\roaming\\python\\python311\\site-packages (from bentoml) (6.0.0)\n",
      "Requirement already satisfied: pydantic<3 in c:\\users\\dell\\appdata\\local\\programs\\python\\python311\\lib\\site-packages (from bentoml) (2.10.3)\n",
      "Requirement already satisfied: python-dateutil in c:\\users\\dell\\appdata\\roaming\\python\\python311\\site-packages (from bentoml) (2.9.0.post0)\n",
      "Requirement already satisfied: python-dotenv>=1.0.1 in c:\\users\\dell\\appdata\\local\\programs\\python\\python311\\lib\\site-packages (from bentoml) (1.0.1)\n",
      "Requirement already satisfied: python-json-logger in c:\\users\\dell\\appdata\\local\\programs\\python\\python311\\lib\\site-packages (from bentoml) (2.0.7)\n",
      "Requirement already satisfied: python-multipart in c:\\users\\dell\\appdata\\local\\programs\\python\\python311\\lib\\site-packages (from bentoml) (0.0.19)\n",
      "Requirement already satisfied: pyyaml>=5.0 in c:\\users\\dell\\appdata\\local\\programs\\python\\python311\\lib\\site-packages (from bentoml) (6.0.2)\n",
      "Requirement already satisfied: questionary>=2.0.1 in c:\\users\\dell\\appdata\\local\\programs\\python\\python311\\lib\\site-packages (from bentoml) (2.0.1)\n",
      "Requirement already satisfied: rich>=11.2.0 in c:\\users\\dell\\appdata\\local\\programs\\python\\python311\\lib\\site-packages (from bentoml) (13.9.4)\n",
      "Requirement already satisfied: schema in c:\\users\\dell\\appdata\\local\\programs\\python\\python311\\lib\\site-packages (from bentoml) (0.7.7)\n",
      "Requirement already satisfied: simple-di>=0.1.4 in c:\\users\\dell\\appdata\\local\\programs\\python\\python311\\lib\\site-packages (from bentoml) (0.1.5)\n",
      "Requirement already satisfied: starlette>=0.24.0 in c:\\users\\dell\\appdata\\local\\programs\\python\\python311\\lib\\site-packages (from bentoml) (0.41.3)\n",
      "Requirement already satisfied: tomli-w in c:\\users\\dell\\appdata\\local\\programs\\python\\python311\\lib\\site-packages (from bentoml) (1.1.0)\n",
      "Requirement already satisfied: uv>=0.5 in c:\\users\\dell\\appdata\\local\\programs\\python\\python311\\lib\\site-packages (from bentoml) (0.5.6)\n",
      "Requirement already satisfied: uvicorn>=0.22.0 in c:\\users\\dell\\appdata\\local\\programs\\python\\python311\\lib\\site-packages (from bentoml) (0.32.1)\n",
      "Requirement already satisfied: watchfiles>=0.15.0 in c:\\users\\dell\\appdata\\local\\programs\\python\\python311\\lib\\site-packages (from bentoml) (1.0.0)\n",
      "Requirement already satisfied: deprecated>=1.2.6 in c:\\users\\dell\\appdata\\local\\programs\\python\\python311\\lib\\site-packages (from opentelemetry-api==1.20.0->bentoml) (1.2.15)\n",
      "Requirement already satisfied: importlib-metadata<7.0,>=6.0 in c:\\users\\dell\\appdata\\local\\programs\\python\\python311\\lib\\site-packages (from opentelemetry-api==1.20.0->bentoml) (6.11.0)\n",
      "Requirement already satisfied: setuptools>=16.0 in c:\\users\\dell\\appdata\\local\\programs\\python\\python311\\lib\\site-packages (from opentelemetry-instrumentation==0.41b0->bentoml) (75.3.0)\n",
      "Requirement already satisfied: wrapt<2.0.0,>=1.0.0 in c:\\users\\dell\\appdata\\local\\programs\\python\\python311\\lib\\site-packages (from opentelemetry-instrumentation==0.41b0->bentoml) (1.16.0)\n",
      "Requirement already satisfied: asgiref~=3.0 in c:\\users\\dell\\appdata\\local\\programs\\python\\python311\\lib\\site-packages (from opentelemetry-instrumentation-asgi==0.41b0->bentoml) (3.8.1)\n",
      "Requirement already satisfied: typing-extensions>=3.7.4 in c:\\users\\dell\\appdata\\roaming\\python\\python311\\site-packages (from opentelemetry-sdk==1.20.0->bentoml) (4.12.2)\n",
      "Requirement already satisfied: pyzmq>=17.0 in c:\\users\\dell\\appdata\\roaming\\python\\python311\\site-packages (from circus!=0.17.2,>=0.17.0->bentoml) (26.0.3)\n",
      "Requirement already satisfied: tornado>=5.0.2 in c:\\users\\dell\\appdata\\roaming\\python\\python311\\site-packages (from circus!=0.17.2,>=0.17.0->bentoml) (6.4.1)\n",
      "Requirement already satisfied: colorama in c:\\users\\dell\\appdata\\roaming\\python\\python311\\site-packages (from click>=7.0->bentoml) (0.4.6)\n",
      "Requirement already satisfied: anyio>=4 in c:\\users\\dell\\appdata\\local\\programs\\python\\python311\\lib\\site-packages (from httpx-ws>=0.6.0->bentoml) (4.6.2.post1)\n",
      "Requirement already satisfied: httpcore>=1.0.4 in c:\\users\\dell\\appdata\\local\\programs\\python\\python311\\lib\\site-packages (from httpx-ws>=0.6.0->bentoml) (1.0.7)\n",
      "Requirement already satisfied: wsproto in c:\\users\\dell\\appdata\\local\\programs\\python\\python311\\lib\\site-packages (from httpx-ws>=0.6.0->bentoml) (1.2.0)\n",
      "Requirement already satisfied: certifi in c:\\users\\dell\\appdata\\local\\programs\\python\\python311\\lib\\site-packages (from httpx->bentoml) (2024.8.30)\n",
      "Requirement already satisfied: idna in c:\\users\\dell\\appdata\\local\\programs\\python\\python311\\lib\\site-packages (from httpx->bentoml) (3.10)\n",
      "Requirement already satisfied: h11<0.15,>=0.13 in c:\\users\\dell\\appdata\\local\\programs\\python\\python311\\lib\\site-packages (from httpcore>=1.0.4->httpx-ws>=0.6.0->bentoml) (0.14.0)\n",
      "Requirement already satisfied: MarkupSafe>=2.0 in c:\\users\\dell\\appdata\\local\\programs\\python\\python311\\lib\\site-packages (from jinja2>=3.0.1->bentoml) (3.0.1)\n",
      "Requirement already satisfied: pyparsing in c:\\users\\dell\\appdata\\local\\programs\\python\\python311\\lib\\site-packages (from pip-requirements-parser>=31.2.0->bentoml) (3.2.0)\n",
      "Requirement already satisfied: annotated-types>=0.6.0 in c:\\users\\dell\\appdata\\local\\programs\\python\\python311\\lib\\site-packages (from pydantic<3->bentoml) (0.7.0)\n",
      "Requirement already satisfied: pydantic-core==2.27.1 in c:\\users\\dell\\appdata\\local\\programs\\python\\python311\\lib\\site-packages (from pydantic<3->bentoml) (2.27.1)\n",
      "Requirement already satisfied: prompt_toolkit<=3.0.36,>=2.0 in c:\\users\\dell\\appdata\\local\\programs\\python\\python311\\lib\\site-packages (from questionary>=2.0.1->bentoml) (3.0.36)\n",
      "Requirement already satisfied: markdown-it-py>=2.2.0 in c:\\users\\dell\\appdata\\local\\programs\\python\\python311\\lib\\site-packages (from rich>=11.2.0->bentoml) (3.0.0)\n",
      "Requirement already satisfied: pygments<3.0.0,>=2.13.0 in c:\\users\\dell\\appdata\\roaming\\python\\python311\\site-packages (from rich>=11.2.0->bentoml) (2.18.0)\n",
      "Requirement already satisfied: aiohappyeyeballs>=2.3.0 in c:\\users\\dell\\appdata\\local\\programs\\python\\python311\\lib\\site-packages (from aiohttp->bentoml) (2.4.3)\n",
      "Requirement already satisfied: aiosignal>=1.1.2 in c:\\users\\dell\\appdata\\local\\programs\\python\\python311\\lib\\site-packages (from aiohttp->bentoml) (1.3.1)\n",
      "Requirement already satisfied: frozenlist>=1.1.1 in c:\\users\\dell\\appdata\\local\\programs\\python\\python311\\lib\\site-packages (from aiohttp->bentoml) (1.4.1)\n",
      "Requirement already satisfied: multidict<7.0,>=4.5 in c:\\users\\dell\\appdata\\local\\programs\\python\\python311\\lib\\site-packages (from aiohttp->bentoml) (6.1.0)\n",
      "Requirement already satisfied: yarl<2.0,>=1.12.0 in c:\\users\\dell\\appdata\\local\\programs\\python\\python311\\lib\\site-packages (from aiohttp->bentoml) (1.15.3)\n",
      "Requirement already satisfied: appdirs~=1.4.3 in c:\\users\\dell\\appdata\\local\\programs\\python\\python311\\lib\\site-packages (from fs->bentoml) (1.4.4)\n",
      "Requirement already satisfied: six~=1.10 in c:\\users\\dell\\appdata\\roaming\\python\\python311\\site-packages (from fs->bentoml) (1.16.0)\n",
      "Requirement already satisfied: sniffio>=1.1 in c:\\users\\dell\\appdata\\local\\programs\\python\\python311\\lib\\site-packages (from anyio>=4->httpx-ws>=0.6.0->bentoml) (1.3.1)\n",
      "Requirement already satisfied: zipp>=0.5 in c:\\users\\dell\\appdata\\local\\programs\\python\\python311\\lib\\site-packages (from importlib-metadata<7.0,>=6.0->opentelemetry-api==1.20.0->bentoml) (3.21.0)\n",
      "Requirement already satisfied: mdurl~=0.1 in c:\\users\\dell\\appdata\\local\\programs\\python\\python311\\lib\\site-packages (from markdown-it-py>=2.2.0->rich>=11.2.0->bentoml) (0.1.2)\n",
      "Requirement already satisfied: wcwidth in c:\\users\\dell\\appdata\\roaming\\python\\python311\\site-packages (from prompt_toolkit<=3.0.36,>=2.0->questionary>=2.0.1->bentoml) (0.2.13)\n",
      "Requirement already satisfied: propcache>=0.2.0 in c:\\users\\dell\\appdata\\local\\programs\\python\\python311\\lib\\site-packages (from yarl<2.0,>=1.12.0->aiohttp->bentoml) (0.2.0)\n",
      "Note: you may need to restart the kernel to use updated packages.\n"
     ]
    }
   ],
   "source": [
    "pip install bentoml"
   ]
  },
  {
   "cell_type": "code",
   "execution_count": 6,
   "metadata": {
    "id": "BWtwqPbMLe5b"
   },
   "outputs": [
    {
     "ename": "ImportError",
     "evalue": "DLL load failed while importing onnx_cpp2py_export: Произошел сбой в программе инициализации библиотеки динамической компоновки (DLL).",
     "output_type": "error",
     "traceback": [
      "\u001b[1;31m---------------------------------------------------------------------------\u001b[0m",
      "\u001b[1;31mImportError\u001b[0m                               Traceback (most recent call last)",
      "Cell \u001b[1;32mIn[6], line 7\u001b[0m\n\u001b[0;32m      4\u001b[0m \u001b[38;5;28;01mimport\u001b[39;00m \u001b[38;5;21;01mseaborn\u001b[39;00m \u001b[38;5;28;01mas\u001b[39;00m \u001b[38;5;21;01msns\u001b[39;00m\n\u001b[0;32m      5\u001b[0m \u001b[38;5;28;01mfrom\u001b[39;00m \u001b[38;5;21;01msklearn\u001b[39;00m\u001b[38;5;21;01m.\u001b[39;00m\u001b[38;5;21;01mmodel_selection\u001b[39;00m \u001b[38;5;28;01mimport\u001b[39;00m train_test_split\n\u001b[1;32m----> 7\u001b[0m \u001b[38;5;28;01mimport\u001b[39;00m \u001b[38;5;21;01monnx\u001b[39;00m\n\u001b[0;32m      9\u001b[0m \u001b[38;5;28;01mfrom\u001b[39;00m \u001b[38;5;21;01msklearn\u001b[39;00m\u001b[38;5;21;01m.\u001b[39;00m\u001b[38;5;21;01mensemble\u001b[39;00m \u001b[38;5;28;01mimport\u001b[39;00m RandomForestClassifier, GradientBoostingClassifier\n\u001b[0;32m     10\u001b[0m \u001b[38;5;28;01mfrom\u001b[39;00m \u001b[38;5;21;01msklearn\u001b[39;00m\u001b[38;5;21;01m.\u001b[39;00m\u001b[38;5;21;01mpreprocessing\u001b[39;00m \u001b[38;5;28;01mimport\u001b[39;00m LabelEncoder\n",
      "File \u001b[1;32mc:\\Users\\Dell\\AppData\\Local\\Programs\\Python\\Python311\\Lib\\site-packages\\onnx\\__init__.py:77\u001b[0m\n\u001b[0;32m     73\u001b[0m \u001b[38;5;28;01mfrom\u001b[39;00m \u001b[38;5;21;01mtyping\u001b[39;00m \u001b[38;5;28;01mimport\u001b[39;00m IO, Literal, Union\n\u001b[0;32m     76\u001b[0m \u001b[38;5;28;01mfrom\u001b[39;00m \u001b[38;5;21;01monnx\u001b[39;00m \u001b[38;5;28;01mimport\u001b[39;00m serialization\n\u001b[1;32m---> 77\u001b[0m \u001b[38;5;28;01mfrom\u001b[39;00m \u001b[38;5;21;01monnx\u001b[39;00m\u001b[38;5;21;01m.\u001b[39;00m\u001b[38;5;21;01monnx_cpp2py_export\u001b[39;00m \u001b[38;5;28;01mimport\u001b[39;00m ONNX_ML\n\u001b[0;32m     78\u001b[0m \u001b[38;5;28;01mfrom\u001b[39;00m \u001b[38;5;21;01monnx\u001b[39;00m\u001b[38;5;21;01m.\u001b[39;00m\u001b[38;5;21;01mexternal_data_helper\u001b[39;00m \u001b[38;5;28;01mimport\u001b[39;00m (\n\u001b[0;32m     79\u001b[0m     load_external_data_for_model,\n\u001b[0;32m     80\u001b[0m     write_external_data_tensors,\n\u001b[0;32m     81\u001b[0m     convert_model_to_external_data,\n\u001b[0;32m     82\u001b[0m )\n\u001b[0;32m     83\u001b[0m \u001b[38;5;28;01mfrom\u001b[39;00m \u001b[38;5;21;01monnx\u001b[39;00m\u001b[38;5;21;01m.\u001b[39;00m\u001b[38;5;21;01monnx_pb\u001b[39;00m \u001b[38;5;28;01mimport\u001b[39;00m (\n\u001b[0;32m     84\u001b[0m     AttributeProto,\n\u001b[0;32m     85\u001b[0m     EXPERIMENTAL,\n\u001b[1;32m   (...)\u001b[0m\n\u001b[0;32m    111\u001b[0m     Version,\n\u001b[0;32m    112\u001b[0m )\n",
      "\u001b[1;31mImportError\u001b[0m: DLL load failed while importing onnx_cpp2py_export: Произошел сбой в программе инициализации библиотеки динамической компоновки (DLL)."
     ]
    }
   ],
   "source": [
    "import sys\n",
    "\n",
    "import pandas as pd\n",
    "import seaborn as sns\n",
    "from sklearn.model_selection import train_test_split\n",
    "\n",
    "import onnx\n",
    "\n",
    "from sklearn.ensemble import RandomForestClassifier, GradientBoostingClassifier\n",
    "from sklearn.preprocessing import LabelEncoder\n",
    "import matplotlib.pyplot as plt\n",
    "import time\n",
    "from collections import Counter\n",
    "import skl2onnx\n",
    "from skl2onnx import convert_sklearn\n",
    "from skl2onnx.common.data_types import FloatTensorType\n",
    "import numpy as np\n",
    "import onnxruntime as ort\n",
    "from onnx import load\n",
    "from sklearn.linear_model import LogisticRegression\n",
    "from sklearn.metrics import accuracy_score, confusion_matrix, classification_report,roc_curve, roc_auc_score, f1_score\n",
    "from sklearn.preprocessing import StandardScaler\n",
    "from sklearn.decomposition import PCA\n",
    "from sklearn.svm import SVC\n",
    "import bentoml"
   ]
  },
  {
   "cell_type": "code",
   "execution_count": 9,
   "metadata": {
    "id": "yA4Devz2Lv-R"
   },
   "outputs": [],
   "source": [
    "data = pd.read_csv('./winequality-red.csv')"
   ]
  },
  {
   "cell_type": "code",
   "execution_count": 10,
   "metadata": {
    "colab": {
     "base_uri": "https://localhost:8080/",
     "height": 782
    },
    "id": "RMFnFLLMLwfr",
    "outputId": "565dc8b9-1fa8-4d02-f853-6b801cf0b726"
   },
   "outputs": [
    {
     "ename": "NameError",
     "evalue": "name 'PCA' is not defined",
     "output_type": "error",
     "traceback": [
      "\u001b[1;31m---------------------------------------------------------------------------\u001b[0m",
      "\u001b[1;31mNameError\u001b[0m                                 Traceback (most recent call last)",
      "Cell \u001b[1;32mIn[10], line 9\u001b[0m\n\u001b[0;32m      4\u001b[0m X_fe \u001b[38;5;241m=\u001b[39m data\u001b[38;5;241m.\u001b[39mdrop(columns\u001b[38;5;241m=\u001b[39m[\u001b[38;5;124m'\u001b[39m\u001b[38;5;124mquality\u001b[39m\u001b[38;5;124m'\u001b[39m])\n\u001b[0;32m      7\u001b[0m X_train, X_test, y_train, y_test \u001b[38;5;241m=\u001b[39m train_test_split(X_fe, y_binary, test_size\u001b[38;5;241m=\u001b[39m\u001b[38;5;241m0.3\u001b[39m, random_state\u001b[38;5;241m=\u001b[39m\u001b[38;5;241m42\u001b[39m, stratify\u001b[38;5;241m=\u001b[39my_binary)\n\u001b[1;32m----> 9\u001b[0m pca \u001b[38;5;241m=\u001b[39m \u001b[43mPCA\u001b[49m(n_components\u001b[38;5;241m=\u001b[39m\u001b[38;5;241m8\u001b[39m)\n\u001b[0;32m     10\u001b[0m X_train_pca \u001b[38;5;241m=\u001b[39m pca\u001b[38;5;241m.\u001b[39mfit_transform(X_train)\n\u001b[0;32m     11\u001b[0m X_test_pca \u001b[38;5;241m=\u001b[39m pca\u001b[38;5;241m.\u001b[39mtransform(X_test)\n",
      "\u001b[1;31mNameError\u001b[0m: name 'PCA' is not defined"
     ]
    }
   ],
   "source": [
    "\n",
    "y_binary = (data['quality'] >= 6).astype(int)\n",
    "y_binary.value_counts(normalize=True) * 100\n",
    "\n",
    "X_fe = data.drop(columns=['quality'])\n",
    "\n",
    "\n",
    "X_train, X_test, y_train, y_test = train_test_split(X_fe, y_binary, test_size=0.3, random_state=42, stratify=y_binary)\n",
    "\n",
    "pca = PCA(n_components=8)\n",
    "X_train_pca = pca.fit_transform(X_train)\n",
    "X_test_pca = pca.transform(X_test)\n",
    "\n",
    "scaler = StandardScaler()  # Создание объекта StandardScaler\n",
    "X_train = scaler.fit_transform(X_train_pca)  # Обучение и преобразование обучающей выборки\n",
    "X_test = scaler.transform(X_test_pca)  # Преобразование тестовой выборки\n",
    "\n",
    "%time model = LogisticRegression(max_iter=200, penalty='l1', solver='liblinear', C=0.5)\n",
    "%time model.fit(X_train, y_train)\n",
    "\n",
    "# 6. Прогнозирование на тестовых данных\n",
    "y_pred = model.predict(X_test)\n",
    "\n",
    "# 7. Оценка модели\n",
    "accuracy = accuracy_score(y_test, y_pred)\n",
    "conf_matrix = confusion_matrix(y_test, y_pred)\n",
    "class_report = classification_report(y_test, y_pred)\n",
    "\n",
    "print(f'Accuracy: {accuracy:.2f}')\n",
    "print('Confusion Matrix:')\n",
    "print(conf_matrix)\n",
    "print('Classification Report:')\n",
    "print(class_report)\n",
    "\n",
    "# 4. Прогнозирование вероятностей для тестовых данных\n",
    "%time y_probs = model.predict_proba(X_test)[:, 1]  # Вероятности для положительного класса\n",
    "\n",
    "# 5. Вычисление ROC-кривой\n",
    "fpr, tpr, thresholds = roc_curve(y_test, y_probs)\n",
    "roc_auc = roc_auc_score(y_test, y_probs)  # Площадь под ROC-кривой\n",
    "\n",
    "# 6. Построение ROC-кривой\n",
    "plt.figure(figsize=(10, 6))\n",
    "plt.plot(fpr, tpr, color='blue', label='ROC curve (area = {:.2f})'.format(roc_auc))\n",
    "plt.plot([0, 1], [0, 1], color='red', linestyle='--')  # Линия случайности\n",
    "plt.xlim([0.0, 1.0])\n",
    "plt.ylim([0.0, 1.05])\n",
    "plt.xlabel('False Positive Rate')\n",
    "plt.ylabel('True Positive Rate')\n",
    "plt.title('Receiver Operating Characteristic (ROC)')\n",
    "plt.legend(loc='lower right')\n",
    "plt.show()\n"
   ]
  },
  {
   "cell_type": "code",
   "execution_count": 14,
   "metadata": {
    "colab": {
     "base_uri": "https://localhost:8080/"
    },
    "id": "-odML4BizmZz",
    "outputId": "d0faa51e-a478-44af-aa99-f9fd6351a837"
   },
   "outputs": [
    {
     "name": "stdout",
     "output_type": "stream",
     "text": [
      "Requirement already satisfied: onnx in c:\\users\\dell\\appdata\\local\\programs\\python\\python311\\lib\\site-packages (1.17.0)\n",
      "Note: you may need to restart the kernel to use updated packages.\n"
     ]
    },
    {
     "name": "stderr",
     "output_type": "stream",
     "text": [
      "ERROR: Could not find a version that satisfies the requirement onnx-sklearn (from versions: none)\n",
      "ERROR: No matching distribution found for onnx-sklearn\n"
     ]
    }
   ],
   "source": [
    "pip install onnx onnx-sklearn"
   ]
  },
  {
   "cell_type": "code",
   "execution_count": 15,
   "metadata": {
    "id": "jqfhMjUMLwZP"
   },
   "outputs": [
    {
     "ename": "ImportError",
     "evalue": "DLL load failed while importing onnx_cpp2py_export: Произошел сбой в программе инициализации библиотеки динамической компоновки (DLL).",
     "output_type": "error",
     "traceback": [
      "\u001b[1;31m---------------------------------------------------------------------------\u001b[0m",
      "\u001b[1;31mImportError\u001b[0m                               Traceback (most recent call last)",
      "Cell \u001b[1;32mIn[15], line 1\u001b[0m\n\u001b[1;32m----> 1\u001b[0m \u001b[38;5;28;01mfrom\u001b[39;00m \u001b[38;5;21;01mskl2onnx\u001b[39;00m \u001b[38;5;28;01mimport\u001b[39;00m convert_sklearn\n\u001b[0;32m      2\u001b[0m \u001b[38;5;28;01mfrom\u001b[39;00m \u001b[38;5;21;01mskl2onnx\u001b[39;00m\u001b[38;5;21;01m.\u001b[39;00m\u001b[38;5;21;01mcommon\u001b[39;00m\u001b[38;5;21;01m.\u001b[39;00m\u001b[38;5;21;01mdata_types\u001b[39;00m \u001b[38;5;28;01mimport\u001b[39;00m FloatTensorType\n\u001b[0;32m      4\u001b[0m \u001b[38;5;66;03m# Установка типа входных данных (размерность должна соответствовать входу вашей модели)\u001b[39;00m\n",
      "File \u001b[1;32mc:\\Users\\Dell\\AppData\\Local\\Programs\\Python\\Python311\\Lib\\site-packages\\skl2onnx\\__init__.py:15\u001b[0m\n\u001b[0;32m     11\u001b[0m __model_version__ \u001b[38;5;241m=\u001b[39m \u001b[38;5;241m0\u001b[39m\n\u001b[0;32m     12\u001b[0m __max_supported_opset__ \u001b[38;5;241m=\u001b[39m \u001b[38;5;241m21\u001b[39m  \u001b[38;5;66;03m# Converters are tested up to this version.\u001b[39;00m\n\u001b[1;32m---> 15\u001b[0m \u001b[38;5;28;01mfrom\u001b[39;00m \u001b[38;5;21;01m.\u001b[39;00m\u001b[38;5;21;01mconvert\u001b[39;00m \u001b[38;5;28;01mimport\u001b[39;00m convert_sklearn, to_onnx, wrap_as_onnx_mixin  \u001b[38;5;66;03m# noqa\u001b[39;00m\n\u001b[0;32m     16\u001b[0m \u001b[38;5;28;01mfrom\u001b[39;00m \u001b[38;5;21;01m.\u001b[39;00m\u001b[38;5;21;01m_supported_operators\u001b[39;00m \u001b[38;5;28;01mimport\u001b[39;00m update_registered_converter, get_model_alias  \u001b[38;5;66;03m# noqa\u001b[39;00m\n\u001b[0;32m     17\u001b[0m \u001b[38;5;28;01mfrom\u001b[39;00m \u001b[38;5;21;01m.\u001b[39;00m\u001b[38;5;21;01m_parse\u001b[39;00m \u001b[38;5;28;01mimport\u001b[39;00m update_registered_parser  \u001b[38;5;66;03m# noqa\u001b[39;00m\n",
      "File \u001b[1;32mc:\\Users\\Dell\\AppData\\Local\\Programs\\Python\\Python311\\Lib\\site-packages\\skl2onnx\\convert.py:5\u001b[0m\n\u001b[0;32m      3\u001b[0m \u001b[38;5;28;01mimport\u001b[39;00m \u001b[38;5;21;01mwarnings\u001b[39;00m\n\u001b[0;32m      4\u001b[0m \u001b[38;5;28;01mfrom\u001b[39;00m \u001b[38;5;21;01muuid\u001b[39;00m \u001b[38;5;28;01mimport\u001b[39;00m uuid4\n\u001b[1;32m----> 5\u001b[0m \u001b[38;5;28;01mfrom\u001b[39;00m \u001b[38;5;21;01m.\u001b[39;00m\u001b[38;5;21;01mproto\u001b[39;00m \u001b[38;5;28;01mimport\u001b[39;00m get_latest_tested_opset_version\n\u001b[0;32m      6\u001b[0m \u001b[38;5;28;01mfrom\u001b[39;00m \u001b[38;5;21;01m.\u001b[39;00m\u001b[38;5;21;01mcommon\u001b[39;00m\u001b[38;5;21;01m.\u001b[39;00m\u001b[38;5;21;01m_topology\u001b[39;00m \u001b[38;5;28;01mimport\u001b[39;00m convert_topology\n\u001b[0;32m      7\u001b[0m \u001b[38;5;28;01mfrom\u001b[39;00m \u001b[38;5;21;01m.\u001b[39;00m\u001b[38;5;21;01mcommon\u001b[39;00m\u001b[38;5;21;01m.\u001b[39;00m\u001b[38;5;21;01mutils_sklearn\u001b[39;00m \u001b[38;5;28;01mimport\u001b[39;00m _process_options\n",
      "File \u001b[1;32mc:\\Users\\Dell\\AppData\\Local\\Programs\\Python\\Python311\\Lib\\site-packages\\skl2onnx\\proto\\__init__.py:8\u001b[0m\n\u001b[0;32m      1\u001b[0m \u001b[38;5;66;03m# SPDX-License-Identifier: Apache-2.0\u001b[39;00m\n\u001b[0;32m      2\u001b[0m \n\u001b[0;32m      3\u001b[0m \n\u001b[1;32m   (...)\u001b[0m\n\u001b[0;32m      6\u001b[0m \u001b[38;5;66;03m# fixes by overwriting ONNX functions without changing any lines\u001b[39;00m\n\u001b[0;32m      7\u001b[0m \u001b[38;5;66;03m# elsewhere.\u001b[39;00m\n\u001b[1;32m----> 8\u001b[0m \u001b[38;5;28;01mfrom\u001b[39;00m \u001b[38;5;21;01monnx\u001b[39;00m \u001b[38;5;28;01mimport\u001b[39;00m onnx_pb \u001b[38;5;28;01mas\u001b[39;00m onnx_proto  \u001b[38;5;66;03m# noqa\u001b[39;00m\n\u001b[0;32m      9\u001b[0m \u001b[38;5;28;01mfrom\u001b[39;00m \u001b[38;5;21;01monnx\u001b[39;00m \u001b[38;5;28;01mimport\u001b[39;00m defs  \u001b[38;5;66;03m# noqa\u001b[39;00m\n\u001b[0;32m     11\u001b[0m \u001b[38;5;66;03m# Overwrite the make_tensor defined in onnx.helper because of a bug\u001b[39;00m\n\u001b[0;32m     12\u001b[0m \u001b[38;5;66;03m# (string tensor get assigned twice)\u001b[39;00m\n",
      "File \u001b[1;32mc:\\Users\\Dell\\AppData\\Local\\Programs\\Python\\Python311\\Lib\\site-packages\\onnx\\__init__.py:77\u001b[0m\n\u001b[0;32m     73\u001b[0m \u001b[38;5;28;01mfrom\u001b[39;00m \u001b[38;5;21;01mtyping\u001b[39;00m \u001b[38;5;28;01mimport\u001b[39;00m IO, Literal, Union\n\u001b[0;32m     76\u001b[0m \u001b[38;5;28;01mfrom\u001b[39;00m \u001b[38;5;21;01monnx\u001b[39;00m \u001b[38;5;28;01mimport\u001b[39;00m serialization\n\u001b[1;32m---> 77\u001b[0m \u001b[38;5;28;01mfrom\u001b[39;00m \u001b[38;5;21;01monnx\u001b[39;00m\u001b[38;5;21;01m.\u001b[39;00m\u001b[38;5;21;01monnx_cpp2py_export\u001b[39;00m \u001b[38;5;28;01mimport\u001b[39;00m ONNX_ML\n\u001b[0;32m     78\u001b[0m \u001b[38;5;28;01mfrom\u001b[39;00m \u001b[38;5;21;01monnx\u001b[39;00m\u001b[38;5;21;01m.\u001b[39;00m\u001b[38;5;21;01mexternal_data_helper\u001b[39;00m \u001b[38;5;28;01mimport\u001b[39;00m (\n\u001b[0;32m     79\u001b[0m     load_external_data_for_model,\n\u001b[0;32m     80\u001b[0m     write_external_data_tensors,\n\u001b[0;32m     81\u001b[0m     convert_model_to_external_data,\n\u001b[0;32m     82\u001b[0m )\n\u001b[0;32m     83\u001b[0m \u001b[38;5;28;01mfrom\u001b[39;00m \u001b[38;5;21;01monnx\u001b[39;00m\u001b[38;5;21;01m.\u001b[39;00m\u001b[38;5;21;01monnx_pb\u001b[39;00m \u001b[38;5;28;01mimport\u001b[39;00m (\n\u001b[0;32m     84\u001b[0m     AttributeProto,\n\u001b[0;32m     85\u001b[0m     EXPERIMENTAL,\n\u001b[1;32m   (...)\u001b[0m\n\u001b[0;32m    111\u001b[0m     Version,\n\u001b[0;32m    112\u001b[0m )\n",
      "\u001b[1;31mImportError\u001b[0m: DLL load failed while importing onnx_cpp2py_export: Произошел сбой в программе инициализации библиотеки динамической компоновки (DLL)."
     ]
    }
   ],
   "source": [
    "from skl2onnx import convert_sklearn\n",
    "from skl2onnx.common.data_types import FloatTensorType\n",
    "\n",
    "# Установка типа входных данных (размерность должна соответствовать входу вашей модели)\n",
    "initial_type = [('float_input', FloatTensorType([None, X_train.shape[1]]))]\n",
    "\n",
    "# Конвертация модели\n",
    "onnx_model = convert_sklearn(model, initial_types=initial_type)"
   ]
  },
  {
   "cell_type": "code",
   "execution_count": null,
   "metadata": {
    "id": "_tS7rl8ALwUn"
   },
   "outputs": [],
   "source": [
    "# Определите путь для сохранения\n",
    "onnx_path = './wine_onnx.onnx'  # Например, если вы сохраняете в текущую директорию\n",
    "\n",
    "# Сохранение модели\n",
    "with open('wine_onnx.onnx', \"wb\") as f:\n",
    "    f.write(onnx_model.SerializeToString())"
   ]
  },
  {
   "cell_type": "code",
   "execution_count": null,
   "metadata": {
    "colab": {
     "base_uri": "https://localhost:8080/"
    },
    "id": "zy_MspKxLwOP",
    "outputId": "e8f8a798-b0d4-40eb-c9e1-6d29de76b5e9"
   },
   "outputs": [
    {
     "name": "stdout",
     "output_type": "stream",
     "text": [
      "True\n"
     ]
    }
   ],
   "source": [
    "import os\n",
    "\n",
    "# Проверить, существует ли файл\n",
    "print(os.path.exists(onnx_path))  # Должно вывести True"
   ]
  },
  {
   "cell_type": "code",
   "execution_count": null,
   "metadata": {
    "colab": {
     "base_uri": "https://localhost:8080/"
    },
    "id": "DEvA-VoUNtVE",
    "outputId": "50234d41-c489-4a0e-dfc5-d7cb62d09ccd"
   },
   "outputs": [
    {
     "name": "stdout",
     "output_type": "stream",
     "text": [
      "Accuracy (ONNX): 0.7375\n",
      "F1-score (ONNX): 0.737828587075575\n",
      "Classification Report (ONNX):               precision    recall  f1-score   support\n",
      "\n",
      "           0       0.70      0.75      0.73       223\n",
      "           1       0.77      0.72      0.75       257\n",
      "\n",
      "    accuracy                           0.74       480\n",
      "   macro avg       0.74      0.74      0.74       480\n",
      "weighted avg       0.74      0.74      0.74       480\n",
      "\n",
      "CPU times: user 2 µs, sys: 0 ns, total: 2 µs\n",
      "Wall time: 5.01 µs\n"
     ]
    },
    {
     "data": {
      "text/plain": [
       "array([1, 0, 0, 0, 1, 0, 0, 0, 1, 0, 1, 0, 0, 1, 0, 1, 1, 0, 1, 0, 0, 1,\n",
       "       1, 1, 1, 1, 0, 0, 1, 1, 1, 0, 0, 1, 0, 0, 0, 1, 0, 1, 0, 0, 1, 0,\n",
       "       0, 0, 1, 0, 0, 0, 0, 1, 1, 1, 1, 0, 1, 1, 1, 0, 0, 0, 0, 1, 1, 0,\n",
       "       1, 0, 1, 0, 0, 1, 1, 1, 1, 1, 0, 1, 1, 1, 1, 1, 0, 0, 1, 0, 0, 0,\n",
       "       1, 1, 1, 0, 0, 0, 0, 1, 0, 1, 1, 1, 0, 1, 0, 0, 0, 1, 0, 0, 0, 1,\n",
       "       0, 0, 0, 1, 0, 1, 0, 1, 0, 1, 1, 1, 1, 0, 1, 0, 1, 1, 0, 1, 1, 1,\n",
       "       0, 1, 0, 0, 1, 0, 0, 0, 1, 0, 1, 1, 1, 0, 0, 1, 1, 0, 1, 1, 0, 0,\n",
       "       1, 1, 1, 0, 0, 1, 0, 0, 1, 0, 0, 0, 0, 0, 0, 0, 0, 0, 0, 1, 1, 0,\n",
       "       1, 0, 0, 0, 0, 1, 0, 1, 1, 1, 1, 1, 1, 0, 1, 1, 0, 0, 0, 0, 1, 0,\n",
       "       1, 0, 1, 1, 0, 1, 1, 0, 0, 1, 1, 1, 0, 0, 1, 1, 0, 0, 0, 0, 0, 0,\n",
       "       1, 0, 1, 1, 0, 0, 1, 1, 1, 0, 1, 1, 0, 1, 1, 0, 0, 1, 1, 0, 1, 1,\n",
       "       0, 0, 0, 1, 1, 0, 1, 0, 1, 0, 1, 1, 1, 0, 1, 0, 1, 1, 1, 1, 1, 1,\n",
       "       0, 0, 0, 1, 1, 1, 0, 0, 1, 1, 1, 0, 1, 1, 0, 0, 1, 0, 1, 0, 1, 0,\n",
       "       0, 1, 0, 0, 0, 0, 1, 1, 0, 1, 1, 1, 0, 0, 0, 0, 1, 0, 1, 1, 1, 1,\n",
       "       1, 0, 0, 1, 0, 1, 1, 0, 0, 0, 0, 0, 1, 1, 1, 0, 1, 1, 1, 1, 0, 0,\n",
       "       0, 0, 1, 0, 1, 1, 1, 1, 1, 0, 1, 0, 0, 1, 0, 0, 0, 1, 0, 0, 1, 1,\n",
       "       1, 0, 1, 1, 0, 0, 0, 0, 0, 1, 1, 0, 0, 0, 0, 0, 1, 1, 0, 1, 1, 0,\n",
       "       1, 0, 1, 1, 0, 1, 1, 0, 0, 1, 0, 1, 0, 0, 0, 1, 1, 1, 0, 1, 0, 0,\n",
       "       1, 1, 0, 0, 1, 0, 1, 1, 0, 0, 1, 1, 1, 0, 0, 0, 1, 1, 1, 0, 1, 1,\n",
       "       1, 1, 0, 0, 0, 1, 0, 0, 1, 0, 1, 0, 1, 0, 1, 1, 0, 0, 0, 1, 0, 1,\n",
       "       0, 0, 1, 1, 1, 0, 1, 0, 0, 0, 1, 1, 1, 1, 0, 1, 1, 1, 0, 1, 0, 1,\n",
       "       1, 0, 1, 1, 1, 0, 0, 1, 0, 0, 0, 0, 1, 1, 0, 0, 1, 1], dtype=int64)"
      ]
     },
     "execution_count": 20,
     "metadata": {},
     "output_type": "execute_result"
    }
   ],
   "source": [
    "initial_type = [('float_input', FloatTensorType([None, X_train.shape[1]]))]\n",
    "onnx_model = convert_sklearn(model, initial_types=initial_type)\n",
    "\n",
    "onnx_path = './wine_onnx.onnx'\n",
    "\n",
    "session = ort.InferenceSession(onnx_path)\n",
    "\n",
    "input_name = session.get_inputs()[0].name #входной тензор\n",
    "output_name = session.get_outputs()[0].name #выходной тензор\n",
    "\n",
    "#Подготовка данных для теста\n",
    "X_test_np = np.array(X_test, dtype=np.float32)\n",
    "\n",
    "predict_onnx = session.run([output_name], {input_name: X_test_np})[0]\n",
    "\n",
    "#Оценка качества\n",
    "accuracy = accuracy_score(y_test, predict_onnx)\n",
    "f1 = f1_score(y_test, predict_onnx, average = 'weighted')\n",
    "\n",
    "print('Accuracy (ONNX):', accuracy)\n",
    "print(\"F1-score (ONNX):\", f1)\n",
    "print(\"Classification Report (ONNX):\", classification_report(y_test, predict_onnx))\n",
    "\n",
    "%time predict_onnx"
   ]
  },
  {
   "cell_type": "code",
   "execution_count": null,
   "metadata": {
    "colab": {
     "base_uri": "https://localhost:8080/",
     "height": 1000
    },
    "id": "9hkyrH80y58h",
    "outputId": "50e0e7e4-55c5-4828-9dce-617c51b2cd5d"
   },
   "outputs": [
    {
     "name": "stdout",
     "output_type": "stream",
     "text": [
      "ir_version: 10\n",
      "producer_name: \"skl2onnx\"\n",
      "producer_version: \"1.17.0\"\n",
      "domain: \"ai.onnx\"\n",
      "model_version: 0\n",
      "doc_string: \"\"\n",
      "graph {\n",
      "  node {\n",
      "    input: \"float_input\"\n",
      "    output: \"label\"\n",
      "    output: \"probabilities\"\n",
      "    name: \"LinearClassifier\"\n",
      "    op_type: \"LinearClassifier\"\n",
      "    attribute {\n",
      "      name: \"classlabels_ints\"\n",
      "      ints: 0\n",
      "      ints: 1\n",
      "      type: INTS\n",
      "    }\n",
      "    attribute {\n",
      "      name: \"coefficients\"\n",
      "      floats: 0.6087689995765686\n",
      "      floats: -0.29691532254219055\n",
      "      floats: -0.22102023661136627\n",
      "      floats: -0.2788827121257782\n",
      "      floats: -1.0050088167190552\n",
      "      floats: 0.4859588146209717\n",
      "      floats: -0.13084676861763\n",
      "      floats: -0.04924231395125389\n",
      "      floats: -0.6087689995765686\n",
      "      floats: 0.29691532254219055\n",
      "      floats: 0.22102023661136627\n",
      "      floats: 0.2788827121257782\n",
      "      floats: 1.0050088167190552\n",
      "      floats: -0.4859588146209717\n",
      "      floats: 0.13084676861763\n",
      "      floats: 0.04924231395125389\n",
      "      type: FLOATS\n",
      "    }\n",
      "    attribute {\n",
      "      name: \"intercepts\"\n",
      "      floats: -0.21784472465515137\n",
      "      floats: 0.21784472465515137\n",
      "      type: FLOATS\n",
      "    }\n",
      "    attribute {\n",
      "      name: \"multi_class\"\n",
      "      i: 0\n",
      "      type: INT\n",
      "    }\n",
      "    attribute {\n",
      "      name: \"post_transform\"\n",
      "      s: \"LOGISTIC\"\n",
      "      type: STRING\n",
      "    }\n",
      "    domain: \"ai.onnx.ml\"\n",
      "  }\n",
      "  node {\n",
      "    input: \"label\"\n",
      "    output: \"output_label\"\n",
      "    name: \"Cast\"\n",
      "    op_type: \"Cast\"\n",
      "    attribute {\n",
      "      name: \"to\"\n",
      "      i: 7\n",
      "      type: INT\n",
      "    }\n",
      "    domain: \"\"\n",
      "  }\n",
      "  node {\n",
      "    input: \"probabilities\"\n",
      "    output: \"output_probability\"\n",
      "    name: \"ZipMap\"\n",
      "    op_type: \"ZipMap\"\n",
      "    attribute {\n",
      "      name: \"classlabels_int64s\"\n",
      "      ints: 0\n",
      "      ints: 1\n",
      "      type: INTS\n",
      "    }\n",
      "    domain: \"ai.onnx.ml\"\n",
      "  }\n",
      "  name: \"a5c7e1e903474a4a8a7e3ce0e51ab980\"\n",
      "  input {\n",
      "    name: \"float_input\"\n",
      "    type {\n",
      "      tensor_type {\n",
      "        elem_type: 1\n",
      "        shape {\n",
      "          dim {\n",
      "          }\n",
      "          dim {\n",
      "            dim_value: 8\n",
      "          }\n",
      "        }\n",
      "      }\n",
      "    }\n",
      "  }\n",
      "  output {\n",
      "    name: \"output_label\"\n",
      "    type {\n",
      "      tensor_type {\n",
      "        elem_type: 7\n",
      "        shape {\n",
      "          dim {\n",
      "          }\n",
      "        }\n",
      "      }\n",
      "    }\n",
      "  }\n",
      "  output {\n",
      "    name: \"output_probability\"\n",
      "    type {\n",
      "      sequence_type {\n",
      "        elem_type {\n",
      "          map_type {\n",
      "            key_type: 7\n",
      "            value_type {\n",
      "              tensor_type {\n",
      "                elem_type: 1\n",
      "              }\n",
      "            }\n",
      "          }\n",
      "        }\n",
      "      }\n",
      "    }\n",
      "  }\n",
      "}\n",
      "opset_import {\n",
      "  domain: \"\"\n",
      "  version: 9\n",
      "}\n",
      "opset_import {\n",
      "  domain: \"ai.onnx.ml\"\n",
      "  version: 1\n",
      "}\n",
      "\n"
     ]
    },
    {
     "ename": "NameError",
     "evalue": "name 'Service' is not defined",
     "output_type": "error",
     "traceback": [
      "\u001b[0;31m---------------------------------------------------------------------------\u001b[0m",
      "\u001b[0;31mNameError\u001b[0m                                 Traceback (most recent call last)",
      "\u001b[0;32m<ipython-input-24-a1ab394aa98c>\u001b[0m in \u001b[0;36m<cell line: 8>\u001b[0;34m()\u001b[0m\n\u001b[1;32m      6\u001b[0m \u001b[0;34m\u001b[0m\u001b[0m\n\u001b[1;32m      7\u001b[0m \u001b[0;34m\u001b[0m\u001b[0m\n\u001b[0;32m----> 8\u001b[0;31m \u001b[0;32mclass\u001b[0m \u001b[0mMyONNXService\u001b[0m\u001b[0;34m(\u001b[0m\u001b[0mService\u001b[0m\u001b[0;34m)\u001b[0m\u001b[0;34m:\u001b[0m\u001b[0;34m\u001b[0m\u001b[0;34m\u001b[0m\u001b[0m\n\u001b[0m\u001b[1;32m      9\u001b[0m     \u001b[0;32mdef\u001b[0m \u001b[0m__init__\u001b[0m\u001b[0;34m(\u001b[0m\u001b[0mself\u001b[0m\u001b[0;34m)\u001b[0m\u001b[0;34m:\u001b[0m\u001b[0;34m\u001b[0m\u001b[0;34m\u001b[0m\u001b[0m\n\u001b[1;32m     10\u001b[0m         \u001b[0mself\u001b[0m\u001b[0;34m.\u001b[0m\u001b[0mmodel\u001b[0m \u001b[0;34m=\u001b[0m \u001b[0mload_model\u001b[0m\u001b[0;34m(\u001b[0m\u001b[0;34m'onnx_model'\u001b[0m\u001b[0;34m)\u001b[0m\u001b[0;34m\u001b[0m\u001b[0;34m\u001b[0m\u001b[0m\n",
      "\u001b[0;31mNameError\u001b[0m: name 'Service' is not defined"
     ]
    }
   ],
   "source": [
    "\n",
    "# Load your ONNX model\n",
    "onnx_model = onnx.load(\"./wine_onnx.onnx\")\n",
    "print(onnx_model)\n",
    "# Save the model in BentoML\n",
    "bentoml.onnx.save_model('onnx_model', onnx_model)\n",
    "\n",
    "\n",
    "class MyONNXService(Service):\n",
    "    def __init__(self):\n",
    "        self.model = load_model('onnx_model')\n",
    "\n",
    "    def predict(self, input_data):\n",
    "        # Process input_data and make predictions\n",
    "        return self.model.predict(input_data)\n",
    "\n",
    "\n",
    "onnx_runner = bentoml.onnx.get('onnx_model').to_runner()\n",
    "\n",
    "# Определение сервиса\n",
    "svc = Service(name=\"onnx_service\", runners=[onnx_runner])\n",
    "\n",
    "# Определение эндпоинта для предсказаний\n",
    "@svc.api(input=NumpyNdarray(), output=NumpyNdarray())\n",
    "def predict(input_data: np.ndarray) -> np.ndarray:\n",
    "    # Передача данных в модель через runner\n",
    "    return onnx_runner.run(input_data)"
   ]
  },
  {
   "cell_type": "code",
   "execution_count": null,
   "metadata": {
    "colab": {
     "base_uri": "https://localhost:8080/"
    },
    "id": "DJI1lcbVrS5f",
    "outputId": "9b82a0b0-ff43-4b8f-be30-144f596d59e2"
   },
   "outputs": [
    {
     "name": "stdout",
     "output_type": "stream",
     "text": [
      "Name: bentoml\n",
      "Version: 1.3.15\n",
      "Summary: BentoML: The easiest way to serve AI apps and models\n",
      "Home-page: https://bentoml.com\n",
      "Author: \n",
      "Author-email: BentoML Team <contact@bentoml.com>\n",
      "License: Apache-2.0\n",
      "Location: /usr/local/lib/python3.10/dist-packages\n",
      "Requires: a2wsgi, aiohttp, aiosqlite, attrs, cattrs, circus, click, click-option-group, cloudpickle, deepmerge, fs, httpx, httpx-ws, inflection, jinja2, numpy, nvidia-ml-py, opentelemetry-api, opentelemetry-instrumentation, opentelemetry-instrumentation-aiohttp-client, opentelemetry-instrumentation-asgi, opentelemetry-sdk, opentelemetry-semantic-conventions, opentelemetry-util-http, packaging, pathspec, pip-requirements-parser, prometheus-client, psutil, pydantic, python-dateutil, python-dotenv, python-json-logger, python-multipart, pyyaml, questionary, rich, schema, simple-di, starlette, tomli, tomli-w, uv, uvicorn, watchfiles\n",
      "Required-by: \n"
     ]
    }
   ],
   "source": [
    "pip show bentoml"
   ]
  },
  {
   "cell_type": "code",
   "execution_count": null,
   "metadata": {
    "colab": {
     "base_uri": "https://localhost:8080/",
     "height": 106
    },
    "id": "_8ibQ5ssrV1P",
    "outputId": "ee240d41-967e-490b-d87f-1a010f35f889"
   },
   "outputs": [
    {
     "ename": "SyntaxError",
     "evalue": "invalid syntax (<ipython-input-29-e2850152647f>, line 1)",
     "output_type": "error",
     "traceback": [
      "\u001b[0;36m  File \u001b[0;32m\"<ipython-input-29-e2850152647f>\"\u001b[0;36m, line \u001b[0;32m1\u001b[0m\n\u001b[0;31m    python -m venv myenv\u001b[0m\n\u001b[0m              ^\u001b[0m\n\u001b[0;31mSyntaxError\u001b[0m\u001b[0;31m:\u001b[0m invalid syntax\n"
     ]
    }
   ],
   "source": [
    "python -m venv myenv"
   ]
  },
  {
   "cell_type": "code",
   "execution_count": null,
   "metadata": {
    "colab": {
     "base_uri": "https://localhost:8080/",
     "height": 373
    },
    "id": "TcxEqJJAqp6A",
    "outputId": "5d5328b4-ce40-4600-cfc0-9be22cd63c6b"
   },
   "outputs": [
    {
     "name": "stderr",
     "output_type": "stream",
     "text": [
      "<ipython-input-26-0e748b6fd900>:6: BentoMLDeprecationWarning: `bentoml.BentoService` is deprecated since BentoML v1.4 and will be removed in a future version.\n",
      "  import bentoml.BentoService\n",
      "/usr/lib/python3.10/importlib/util.py:103: BentoMLDeprecationWarning: `bentoml._internal` is deprecated since BentoML v1.4 and will be removed in a future version.\n",
      "  return _find_spec(fullname, parent_path)\n"
     ]
    },
    {
     "ename": "RecursionError",
     "evalue": "maximum recursion depth exceeded while calling a Python object",
     "output_type": "error",
     "traceback": [
      "\u001b[0;31m---------------------------------------------------------------------------\u001b[0m",
      "\u001b[0;31mRecursionError\u001b[0m                            Traceback (most recent call last)",
      "\u001b[0;32m<ipython-input-26-0e748b6fd900>\u001b[0m in \u001b[0;36m<cell line: 6>\u001b[0;34m()\u001b[0m\n\u001b[1;32m      4\u001b[0m \u001b[0;32mfrom\u001b[0m \u001b[0msklearn\u001b[0m\u001b[0;34m.\u001b[0m\u001b[0mlinear_model\u001b[0m \u001b[0;32mimport\u001b[0m \u001b[0mLogisticRegression\u001b[0m\u001b[0;34m\u001b[0m\u001b[0;34m\u001b[0m\u001b[0m\n\u001b[1;32m      5\u001b[0m \u001b[0;32mimport\u001b[0m \u001b[0mnumpy\u001b[0m \u001b[0;32mas\u001b[0m \u001b[0mnp\u001b[0m\u001b[0;34m\u001b[0m\u001b[0;34m\u001b[0m\u001b[0m\n\u001b[0;32m----> 6\u001b[0;31m \u001b[0;32mimport\u001b[0m \u001b[0mbentoml\u001b[0m\u001b[0;34m.\u001b[0m\u001b[0mBentoService\u001b[0m\u001b[0;34m\u001b[0m\u001b[0;34m\u001b[0m\u001b[0m\n\u001b[0m\u001b[1;32m      7\u001b[0m \u001b[0;34m\u001b[0m\u001b[0m\n\u001b[1;32m      8\u001b[0m \u001b[0;31m#@artifacts([bentoml.artifacts.ModelArtifact('model')])\u001b[0m\u001b[0;34m\u001b[0m\u001b[0;34m\u001b[0m\u001b[0m\n",
      "\u001b[0;32m/usr/lib/python3.10/importlib/_bootstrap.py\u001b[0m in \u001b[0;36m_find_and_load\u001b[0;34m(name, import_)\u001b[0m\n",
      "\u001b[0;32m/usr/lib/python3.10/importlib/_bootstrap.py\u001b[0m in \u001b[0;36m_find_and_load_unlocked\u001b[0;34m(name, import_)\u001b[0m\n",
      "\u001b[0;32m/usr/lib/python3.10/importlib/_bootstrap.py\u001b[0m in \u001b[0;36m_find_spec\u001b[0;34m(name, path, target)\u001b[0m\n",
      "\u001b[0;32m/usr/local/lib/python3.10/dist-packages/_bentoml_impl/frameworks/importer.py\u001b[0m in \u001b[0;36mfind_spec\u001b[0;34m(self, fullname, path, target)\u001b[0m\n\u001b[1;32m     27\u001b[0m                 \u001b[0;34mf\"`bentoml.{framework}` is deprecated since BentoML v1.4 and will be removed in a future version.\"\u001b[0m\u001b[0;34m,\u001b[0m\u001b[0;34m\u001b[0m\u001b[0;34m\u001b[0m\u001b[0m\n\u001b[1;32m     28\u001b[0m             )\n\u001b[0;32m---> 29\u001b[0;31m             \u001b[0mspec\u001b[0m \u001b[0;34m=\u001b[0m \u001b[0mimportlib\u001b[0m\u001b[0;34m.\u001b[0m\u001b[0mutil\u001b[0m\u001b[0;34m.\u001b[0m\u001b[0mfind_spec\u001b[0m\u001b[0;34m(\u001b[0m\u001b[0;34mf\"bentoml._internal.frameworks.{framework}\"\u001b[0m\u001b[0;34m)\u001b[0m\u001b[0;34m\u001b[0m\u001b[0;34m\u001b[0m\u001b[0m\n\u001b[0m\u001b[1;32m     30\u001b[0m         \u001b[0;32mreturn\u001b[0m \u001b[0mspec\u001b[0m\u001b[0;34m\u001b[0m\u001b[0;34m\u001b[0m\u001b[0m\n\u001b[1;32m     31\u001b[0m \u001b[0;34m\u001b[0m\u001b[0m\n",
      "\u001b[0;32m/usr/lib/python3.10/importlib/util.py\u001b[0m in \u001b[0;36mfind_spec\u001b[0;34m(name, package)\u001b[0m\n\u001b[1;32m    101\u001b[0m         \u001b[0;32melse\u001b[0m\u001b[0;34m:\u001b[0m\u001b[0;34m\u001b[0m\u001b[0;34m\u001b[0m\u001b[0m\n\u001b[1;32m    102\u001b[0m             \u001b[0mparent_path\u001b[0m \u001b[0;34m=\u001b[0m \u001b[0;32mNone\u001b[0m\u001b[0;34m\u001b[0m\u001b[0;34m\u001b[0m\u001b[0m\n\u001b[0;32m--> 103\u001b[0;31m         \u001b[0;32mreturn\u001b[0m \u001b[0m_find_spec\u001b[0m\u001b[0;34m(\u001b[0m\u001b[0mfullname\u001b[0m\u001b[0;34m,\u001b[0m \u001b[0mparent_path\u001b[0m\u001b[0;34m)\u001b[0m\u001b[0;34m\u001b[0m\u001b[0;34m\u001b[0m\u001b[0m\n\u001b[0m\u001b[1;32m    104\u001b[0m     \u001b[0;32melse\u001b[0m\u001b[0;34m:\u001b[0m\u001b[0;34m\u001b[0m\u001b[0;34m\u001b[0m\u001b[0m\n\u001b[1;32m    105\u001b[0m         \u001b[0mmodule\u001b[0m \u001b[0;34m=\u001b[0m \u001b[0msys\u001b[0m\u001b[0;34m.\u001b[0m\u001b[0mmodules\u001b[0m\u001b[0;34m[\u001b[0m\u001b[0mfullname\u001b[0m\u001b[0;34m]\u001b[0m\u001b[0;34m\u001b[0m\u001b[0;34m\u001b[0m\u001b[0m\n",
      "... last 3 frames repeated, from the frame below ...\n",
      "\u001b[0;32m/usr/lib/python3.10/importlib/_bootstrap.py\u001b[0m in \u001b[0;36m_find_spec\u001b[0;34m(name, path, target)\u001b[0m\n",
      "\u001b[0;31mRecursionError\u001b[0m: maximum recursion depth exceeded while calling a Python object"
     ]
    }
   ],
   "source": [
    "import bentoml\n",
    "from bentoml.io import NumpyNdarray\n",
    "#from bentoml import artifacts, env\n",
    "from sklearn.linear_model import LogisticRegression\n",
    "import numpy as np\n",
    "import bentoml.BentoService\n",
    "\n",
    "#@artifacts([bentoml.artifacts.ModelArtifact('model')])\n",
    "#@env(infer_pip_packages=True)\n",
    "class LogisticRegressionService(bentoml.BentoService):\n",
    "\n",
    "    @bentoml.api(input=NumpyNdarray(), output=NumpyNdarray())\n",
    "    def predict(self, input_data):\n",
    "        model = self.artifacts.model\n",
    "        return model.predict(input_data)\n",
    "\n",
    "if __name__ == \"__main__\":\n",
    "    # Подготовка данных\n",
    "    X = np.random.rand(100, 10)  # 100 образцов, 10 признаков\n",
    "    y = (X.sum(axis=1) > 5).astype(int)  # Простой бинарный таргет\n",
    "\n",
    "    # Обучение модели\n",
    "    model = LogisticRegression()\n",
    "    model.fit(X, y)\n",
    "\n",
    "    # Создание экземпляра сервиса и упаковка модели\n",
    "    service = LogisticRegressionService()\n",
    "    service.pack('model', model)\n",
    "\n",
    "    # Сохранение сервиса\n",
    "    service.save('LogisticRegressionModel')"
   ]
  },
  {
   "cell_type": "code",
   "execution_count": null,
   "metadata": {
    "colab": {
     "base_uri": "https://localhost:8080/"
    },
    "id": "cuiA2nLhYQs-",
    "outputId": "ec0ae091-a478-4846-dac2-6cd652d3323b"
   },
   "outputs": [
    {
     "data": {
      "text/plain": [
       "['logistic_model.joblib']"
      ]
     },
     "execution_count": 30,
     "metadata": {},
     "output_type": "execute_result"
    }
   ],
   "source": [
    "import joblib  # для сохранения модели\n",
    "\n",
    "# Сохранение модели\n",
    "joblib.dump(model, 'logistic_model.joblib')\n",
    "\n",
    "\n"
   ]
  },
  {
   "cell_type": "code",
   "execution_count": null,
   "metadata": {
    "colab": {
     "base_uri": "https://localhost:8080/",
     "height": 428
    },
    "id": "wFl_IVDbYsVa",
    "outputId": "f1ad1206-0d35-4e28-92b7-90d0c0765cd9"
   },
   "outputs": [
    {
     "name": "stderr",
     "output_type": "stream",
     "text": [
      "/usr/local/lib/python3.10/dist-packages/bentoml/io.py:7: BentoMLDeprecationWarning: `bentoml.io` is deprecated since BentoML v1.4 and will be removed in a future version. Please upgrade to new style IO types instead.\n",
      "  warn_deprecated(\n",
      "<ipython-input-17-6a868633ff4a>:7: BentoMLDeprecationWarning: `bentoml.env` is deprecated since BentoML v1.4 and will be removed in a future version.\n",
      "  from bentoml import env, artifacts, BentoService\n",
      "/usr/lib/python3.10/importlib/util.py:103: BentoMLDeprecationWarning: `bentoml._internal` is deprecated since BentoML v1.4 and will be removed in a future version.\n",
      "  return _find_spec(fullname, parent_path)\n"
     ]
    },
    {
     "ename": "RecursionError",
     "evalue": "maximum recursion depth exceeded while calling a Python object",
     "output_type": "error",
     "traceback": [
      "\u001b[0;31m---------------------------------------------------------------------------\u001b[0m",
      "\u001b[0;31mRecursionError\u001b[0m                            Traceback (most recent call last)",
      "\u001b[0;32m<ipython-input-17-6a868633ff4a>\u001b[0m in \u001b[0;36m<cell line: 7>\u001b[0;34m()\u001b[0m\n\u001b[1;32m      5\u001b[0m \u001b[0;32mimport\u001b[0m \u001b[0mnumpy\u001b[0m \u001b[0;32mas\u001b[0m \u001b[0mnp\u001b[0m\u001b[0;34m\u001b[0m\u001b[0;34m\u001b[0m\u001b[0m\n\u001b[1;32m      6\u001b[0m \u001b[0;34m\u001b[0m\u001b[0m\n\u001b[0;32m----> 7\u001b[0;31m \u001b[0;32mfrom\u001b[0m \u001b[0mbentoml\u001b[0m \u001b[0;32mimport\u001b[0m \u001b[0menv\u001b[0m\u001b[0;34m,\u001b[0m \u001b[0martifacts\u001b[0m\u001b[0;34m,\u001b[0m \u001b[0mBentoService\u001b[0m\u001b[0;34m\u001b[0m\u001b[0;34m\u001b[0m\u001b[0m\n\u001b[0m\u001b[1;32m      8\u001b[0m \u001b[0;34m\u001b[0m\u001b[0m\n\u001b[1;32m      9\u001b[0m \u001b[0;34m\u001b[0m\u001b[0m\n",
      "\u001b[0;32m/usr/lib/python3.10/importlib/_bootstrap.py\u001b[0m in \u001b[0;36m_find_and_load\u001b[0;34m(name, import_)\u001b[0m\n",
      "\u001b[0;32m/usr/lib/python3.10/importlib/_bootstrap.py\u001b[0m in \u001b[0;36m_find_and_load_unlocked\u001b[0;34m(name, import_)\u001b[0m\n",
      "\u001b[0;32m/usr/lib/python3.10/importlib/_bootstrap.py\u001b[0m in \u001b[0;36m_find_spec\u001b[0;34m(name, path, target)\u001b[0m\n",
      "\u001b[0;32m/usr/local/lib/python3.10/dist-packages/_bentoml_impl/frameworks/importer.py\u001b[0m in \u001b[0;36mfind_spec\u001b[0;34m(self, fullname, path, target)\u001b[0m\n\u001b[1;32m     27\u001b[0m                 \u001b[0;34mf\"`bentoml.{framework}` is deprecated since BentoML v1.4 and will be removed in a future version.\"\u001b[0m\u001b[0;34m,\u001b[0m\u001b[0;34m\u001b[0m\u001b[0;34m\u001b[0m\u001b[0m\n\u001b[1;32m     28\u001b[0m             )\n\u001b[0;32m---> 29\u001b[0;31m             \u001b[0mspec\u001b[0m \u001b[0;34m=\u001b[0m \u001b[0mimportlib\u001b[0m\u001b[0;34m.\u001b[0m\u001b[0mutil\u001b[0m\u001b[0;34m.\u001b[0m\u001b[0mfind_spec\u001b[0m\u001b[0;34m(\u001b[0m\u001b[0;34mf\"bentoml._internal.frameworks.{framework}\"\u001b[0m\u001b[0;34m)\u001b[0m\u001b[0;34m\u001b[0m\u001b[0;34m\u001b[0m\u001b[0m\n\u001b[0m\u001b[1;32m     30\u001b[0m         \u001b[0;32mreturn\u001b[0m \u001b[0mspec\u001b[0m\u001b[0;34m\u001b[0m\u001b[0;34m\u001b[0m\u001b[0m\n\u001b[1;32m     31\u001b[0m \u001b[0;34m\u001b[0m\u001b[0m\n",
      "\u001b[0;32m/usr/lib/python3.10/importlib/util.py\u001b[0m in \u001b[0;36mfind_spec\u001b[0;34m(name, package)\u001b[0m\n\u001b[1;32m    101\u001b[0m         \u001b[0;32melse\u001b[0m\u001b[0;34m:\u001b[0m\u001b[0;34m\u001b[0m\u001b[0;34m\u001b[0m\u001b[0m\n\u001b[1;32m    102\u001b[0m             \u001b[0mparent_path\u001b[0m \u001b[0;34m=\u001b[0m \u001b[0;32mNone\u001b[0m\u001b[0;34m\u001b[0m\u001b[0;34m\u001b[0m\u001b[0m\n\u001b[0;32m--> 103\u001b[0;31m         \u001b[0;32mreturn\u001b[0m \u001b[0m_find_spec\u001b[0m\u001b[0;34m(\u001b[0m\u001b[0mfullname\u001b[0m\u001b[0;34m,\u001b[0m \u001b[0mparent_path\u001b[0m\u001b[0;34m)\u001b[0m\u001b[0;34m\u001b[0m\u001b[0;34m\u001b[0m\u001b[0m\n\u001b[0m\u001b[1;32m    104\u001b[0m     \u001b[0;32melse\u001b[0m\u001b[0;34m:\u001b[0m\u001b[0;34m\u001b[0m\u001b[0;34m\u001b[0m\u001b[0m\n\u001b[1;32m    105\u001b[0m         \u001b[0mmodule\u001b[0m \u001b[0;34m=\u001b[0m \u001b[0msys\u001b[0m\u001b[0;34m.\u001b[0m\u001b[0mmodules\u001b[0m\u001b[0;34m[\u001b[0m\u001b[0mfullname\u001b[0m\u001b[0;34m]\u001b[0m\u001b[0;34m\u001b[0m\u001b[0;34m\u001b[0m\u001b[0m\n",
      "... last 3 frames repeated, from the frame below ...\n",
      "\u001b[0;32m/usr/lib/python3.10/importlib/_bootstrap.py\u001b[0m in \u001b[0;36m_find_spec\u001b[0;34m(name, path, target)\u001b[0m\n",
      "\u001b[0;31mRecursionError\u001b[0m: maximum recursion depth exceeded while calling a Python object"
     ]
    }
   ],
   "source": [
    "import bentoml\n",
    "from bentoml.io import NumpyNdarray\n",
    "from sklearn.linear_model import LogisticRegression\n",
    "import joblib\n",
    "import numpy as np\n",
    "\n",
    "from bentoml import env, artifacts, BentoService\n",
    "\n",
    "\n",
    "# Определение BentoService\n",
    "class LogisticRegressionService(bentoml.BentoService):\n",
    "    @bentoml.api(input=NumpyNdarray(), output=NumpyNdarray())\n",
    "    def predict(self, input_data):\n",
    "       # Загрузка модели\n",
    "       model = joblib.load('logistic_model.joblib')\n",
    "       # Предсказание\n",
    "       return model.predict(input_data)\n",
    "\n",
    "# Сохранение сервиса\n",
    "if __name__ == \"__main__\":\n",
    "    # Создайте экземпляр сервиса\n",
    "    service = LogisticRegressionService()\n",
    "    # Сохраните сервис\n",
    "    service.save('LogisticRegressionModel')"
   ]
  },
  {
   "cell_type": "code",
   "execution_count": null,
   "metadata": {
    "id": "RgyY1gBxY_J0"
   },
   "outputs": [],
   "source": []
  },
  {
   "cell_type": "code",
   "execution_count": null,
   "metadata": {
    "id": "y5gpy9N2Y_Dq"
   },
   "outputs": [],
   "source": [
    "bentoml serve LogisticRegressionModel"
   ]
  },
  {
   "cell_type": "code",
   "execution_count": null,
   "metadata": {
    "id": "n-NiWWG1Y_zD"
   },
   "outputs": [],
   "source": [
    "import requests\n",
    "import numpy as np\n",
    "\n",
    "# Подготовка данных для отправки (пример с 10 признаками)\n",
    "data = np.random.rand(1, 10).tolist()  # Создаём случайный пример с 10 признаками\n",
    "\n",
    "# Отправка POST-запроса\n",
    "response = requests.post(\"http://localhost:5000/predict\", json=data)\n",
    "\n",
    "# Вывод результата\n",
    "print(response.json())  # Покажет предсказание модели"
   ]
  },
  {
   "cell_type": "code",
   "execution_count": null,
   "metadata": {
    "id": "HqDJEeLTY_wH"
   },
   "outputs": [],
   "source": []
  },
  {
   "cell_type": "code",
   "execution_count": null,
   "metadata": {
    "colab": {
     "base_uri": "https://localhost:8080/",
     "height": 332
    },
    "id": "gk9-i02xWrrt",
    "outputId": "b9cb7897-d4ca-49db-cdca-4a7f6d213bed"
   },
   "outputs": [
    {
     "ename": "NameError",
     "evalue": "name 't' is not defined",
     "output_type": "error",
     "traceback": [
      "\u001b[0;31m---------------------------------------------------------------------------\u001b[0m",
      "\u001b[0;31mNameError\u001b[0m                                 Traceback (most recent call last)",
      "\u001b[0;32m<ipython-input-18-a8c6ed13f7b5>\u001b[0m in \u001b[0;36m<cell line: 1>\u001b[0;34m()\u001b[0m\n\u001b[1;32m      1\u001b[0m \u001b[0;34m@\u001b[0m\u001b[0mbentoml\u001b[0m\u001b[0;34m.\u001b[0m\u001b[0mservice\u001b[0m\u001b[0;34m(\u001b[0m\u001b[0mresources\u001b[0m\u001b[0;34m=\u001b[0m\u001b[0;34m{\u001b[0m\u001b[0;34m\"cpu\"\u001b[0m\u001b[0;34m:\u001b[0m \u001b[0;34m\"1\"\u001b[0m\u001b[0;34m,\u001b[0m \u001b[0;34m\"memory\"\u001b[0m\u001b[0;34m:\u001b[0m \u001b[0;34m\"1Gi\"\u001b[0m\u001b[0;34m}\u001b[0m\u001b[0;34m)\u001b[0m\u001b[0;34m\u001b[0m\u001b[0;34m\u001b[0m\u001b[0m\n\u001b[0;32m----> 2\u001b[0;31m \u001b[0;32mclass\u001b[0m \u001b[0mDataModel\u001b[0m\u001b[0;34m:\u001b[0m\u001b[0;34m\u001b[0m\u001b[0;34m\u001b[0m\u001b[0m\n\u001b[0m\u001b[1;32m      3\u001b[0m     \u001b[0;32mdef\u001b[0m \u001b[0m__init__\u001b[0m\u001b[0;34m(\u001b[0m\u001b[0mself\u001b[0m\u001b[0;34m)\u001b[0m\u001b[0;34m:\u001b[0m\u001b[0;34m\u001b[0m\u001b[0;34m\u001b[0m\u001b[0m\n\u001b[1;32m      4\u001b[0m         \u001b[0;31m# Simulating a data analysis model initialization\u001b[0m\u001b[0;34m\u001b[0m\u001b[0;34m\u001b[0m\u001b[0m\n\u001b[1;32m      5\u001b[0m         \u001b[0mself\u001b[0m\u001b[0;34m.\u001b[0m\u001b[0mmodel\u001b[0m \u001b[0;34m=\u001b[0m \u001b[0;34m\"Simulated data analysis model\"\u001b[0m\u001b[0;34m\u001b[0m\u001b[0;34m\u001b[0m\u001b[0m\n",
      "\u001b[0;32m<ipython-input-18-a8c6ed13f7b5>\u001b[0m in \u001b[0;36mDataModel\u001b[0;34m()\u001b[0m\n\u001b[1;32m      6\u001b[0m \u001b[0;34m\u001b[0m\u001b[0m\n\u001b[1;32m      7\u001b[0m     \u001b[0;34m@\u001b[0m\u001b[0mbentoml\u001b[0m\u001b[0;34m.\u001b[0m\u001b[0mapi\u001b[0m\u001b[0;34m\u001b[0m\u001b[0;34m\u001b[0m\u001b[0m\n\u001b[0;32m----> 8\u001b[0;31m     \u001b[0;32mdef\u001b[0m \u001b[0mprocess_data\u001b[0m\u001b[0;34m(\u001b[0m\u001b[0mself\u001b[0m\u001b[0;34m,\u001b[0m \u001b[0mdata\u001b[0m\u001b[0;34m:\u001b[0m \u001b[0mt\u001b[0m\u001b[0;34m.\u001b[0m\u001b[0mDict\u001b[0m\u001b[0;34m[\u001b[0m\u001b[0mstr\u001b[0m\u001b[0;34m,\u001b[0m \u001b[0mt\u001b[0m\u001b[0;34m.\u001b[0m\u001b[0mAny\u001b[0m\u001b[0;34m]\u001b[0m\u001b[0;34m)\u001b[0m \u001b[0;34m->\u001b[0m \u001b[0mt\u001b[0m\u001b[0;34m.\u001b[0m\u001b[0mDict\u001b[0m\u001b[0;34m[\u001b[0m\u001b[0mstr\u001b[0m\u001b[0;34m,\u001b[0m \u001b[0mt\u001b[0m\u001b[0;34m.\u001b[0m\u001b[0mAny\u001b[0m\u001b[0;34m]\u001b[0m\u001b[0;34m:\u001b[0m\u001b[0;34m\u001b[0m\u001b[0;34m\u001b[0m\u001b[0m\n\u001b[0m\u001b[1;32m      9\u001b[0m         \u001b[0;32mreturn\u001b[0m \u001b[0;34m{\u001b[0m\u001b[0;34m\"processed_data\"\u001b[0m\u001b[0;34m:\u001b[0m \u001b[0mdata\u001b[0m\u001b[0;34m,\u001b[0m \u001b[0;34m\"status\"\u001b[0m\u001b[0;34m:\u001b[0m \u001b[0;34m\"success\"\u001b[0m\u001b[0;34m}\u001b[0m\u001b[0;34m\u001b[0m\u001b[0;34m\u001b[0m\u001b[0m\n\u001b[1;32m     10\u001b[0m \u001b[0;34m\u001b[0m\u001b[0m\n",
      "\u001b[0;31mNameError\u001b[0m: name 't' is not defined"
     ]
    }
   ],
   "source": [
    "\n",
    "@bentoml.service(resources={\"cpu\": \"1\", \"memory\": \"1Gi\"})\n",
    "class DataModel:\n",
    "    def __init__(self):\n",
    "        # Simulating a data analysis model initialization\n",
    "        self.model = \"Simulated data analysis model\"\n",
    "\n",
    "    @bentoml.api\n",
    "    def process_data(self, data: t.Dict[str, t.Any]) -> t.Dict[str, t.Any]:\n",
    "        return {\"processed_data\": data, \"status\": \"success\"}\n",
    "\n",
    "\n",
    "\n",
    "@bentoml.service(resources={\"cpu\": \"4\", \"memory\": \"8Gi\"})\n",
    "class InferenceOrchestrator:\n",
    "    data_processor = bentoml.depends(DataModel)"
   ]
  },
  {
   "cell_type": "code",
   "execution_count": null,
   "metadata": {
    "colab": {
     "base_uri": "https://localhost:8080/",
     "height": 106
    },
    "id": "dyPL-cHSSkSu",
    "outputId": "14dec2d7-64a9-458a-e11b-7f7b67da14ed"
   },
   "outputs": [
    {
     "ename": "SyntaxError",
     "evalue": "invalid syntax (<ipython-input-11-e6a21eaa0169>, line 20)",
     "output_type": "error",
     "traceback": [
      "\u001b[0;36m  File \u001b[0;32m\"<ipython-input-11-e6a21eaa0169>\"\u001b[0;36m, line \u001b[0;32m20\u001b[0m\n\u001b[0;31m    def predict(self, input_sample: = EXAMPLE_INPUT) -> str:\u001b[0m\n\u001b[0m                                    ^\u001b[0m\n\u001b[0;31mSyntaxError\u001b[0m\u001b[0;31m:\u001b[0m invalid syntax\n"
     ]
    }
   ],
   "source": [
    "from __future__ import annotations\n",
    "import bentoml\n",
    "from transformers import pipeline\n",
    "\n",
    "\n",
    "EXAMPLE_INPUT = \"sometext\"\n",
    "\n",
    "@bentoml.service(\n",
    "    resources={\"cpu\": \"2\"},\n",
    "    traffic={\"timeout\": 10},\n",
    ")\n",
    "\n",
    "class Model:\n",
    "    def __init__(self) -> None:\n",
    "        # Load onnx model and start onn inference service\n",
    "        self.pipeline = pipeline('summarization')\n",
    "\n",
    "\n",
    "    @bentoml.api\n",
    "    def predict(self, input_sample: = EXAMPLE_INPUT) -> str:\n",
    "# dont forget to add preprocessing  module for input data\n",
    "\n",
    "        result = self.pipeline(input_sample)\n",
    "\n",
    "# dont forget to add post processing  module for input data\n",
    "\n",
    "        return result[0]['summary_text'] #or extract target information"
   ]
  },
  {
   "cell_type": "code",
   "execution_count": 3,
   "metadata": {
    "colab": {
     "base_uri": "https://localhost:8080/",
     "height": 245
    },
    "id": "0yuSc1LVXlif",
    "outputId": "ee12bfd5-ac4e-4805-d52e-6341e28d6ba5"
   },
   "outputs": [
    {
     "ename": "MissingDependencyException",
     "evalue": "onnx is required in order to use module 'bentoml.onnx', install onnx with 'pip install onnx'. For more information, refer to https://onnx.ai/get-started.html",
     "output_type": "error",
     "traceback": [
      "\u001b[1;31m---------------------------------------------------------------------------\u001b[0m",
      "\u001b[1;31mImportError\u001b[0m                               Traceback (most recent call last)",
      "File \u001b[1;32mc:\\Users\\Dell\\AppData\\Local\\Programs\\Python\\Python311\\Lib\\site-packages\\bentoml\\_internal\\frameworks\\onnx.py:32\u001b[0m\n\u001b[0;32m     31\u001b[0m \u001b[38;5;28;01mtry\u001b[39;00m:\n\u001b[1;32m---> 32\u001b[0m     \u001b[38;5;28;01mimport\u001b[39;00m \u001b[38;5;21;01monnx\u001b[39;00m\n\u001b[0;32m     33\u001b[0m     \u001b[38;5;28;01mfrom\u001b[39;00m \u001b[38;5;21;01mgoogle\u001b[39;00m\u001b[38;5;21;01m.\u001b[39;00m\u001b[38;5;21;01mprotobuf\u001b[39;00m\u001b[38;5;21;01m.\u001b[39;00m\u001b[38;5;21;01mjson_format\u001b[39;00m \u001b[38;5;28;01mimport\u001b[39;00m MessageToDict\n",
      "File \u001b[1;32mc:\\Users\\Dell\\AppData\\Local\\Programs\\Python\\Python311\\Lib\\site-packages\\onnx\\__init__.py:77\u001b[0m\n\u001b[0;32m     76\u001b[0m \u001b[38;5;28;01mfrom\u001b[39;00m \u001b[38;5;21;01monnx\u001b[39;00m \u001b[38;5;28;01mimport\u001b[39;00m serialization\n\u001b[1;32m---> 77\u001b[0m \u001b[38;5;28;01mfrom\u001b[39;00m \u001b[38;5;21;01monnx\u001b[39;00m\u001b[38;5;21;01m.\u001b[39;00m\u001b[38;5;21;01monnx_cpp2py_export\u001b[39;00m \u001b[38;5;28;01mimport\u001b[39;00m ONNX_ML\n\u001b[0;32m     78\u001b[0m \u001b[38;5;28;01mfrom\u001b[39;00m \u001b[38;5;21;01monnx\u001b[39;00m\u001b[38;5;21;01m.\u001b[39;00m\u001b[38;5;21;01mexternal_data_helper\u001b[39;00m \u001b[38;5;28;01mimport\u001b[39;00m (\n\u001b[0;32m     79\u001b[0m     load_external_data_for_model,\n\u001b[0;32m     80\u001b[0m     write_external_data_tensors,\n\u001b[0;32m     81\u001b[0m     convert_model_to_external_data,\n\u001b[0;32m     82\u001b[0m )\n",
      "\u001b[1;31mImportError\u001b[0m: DLL load failed while importing onnx_cpp2py_export: Произошел сбой в программе инициализации библиотеки динамической компоновки (DLL).",
      "\nDuring handling of the above exception, another exception occurred:\n",
      "\u001b[1;31mMissingDependencyException\u001b[0m                Traceback (most recent call last)",
      "Cell \u001b[1;32mIn[3], line 4\u001b[0m\n\u001b[0;32m      1\u001b[0m \u001b[38;5;28;01mimport\u001b[39;00m \u001b[38;5;21;01mbentoml\u001b[39;00m\n\u001b[0;32m      3\u001b[0m \u001b[38;5;66;03m# Save the model in BentoML\u001b[39;00m\n\u001b[1;32m----> 4\u001b[0m \u001b[43mbentoml\u001b[49m\u001b[38;5;241;43m.\u001b[39;49m\u001b[43monnx\u001b[49m\u001b[38;5;241;43m.\u001b[39;49m\u001b[43msave_model\u001b[49m(\u001b[38;5;124m'\u001b[39m\u001b[38;5;124monnx_model\u001b[39m\u001b[38;5;124m'\u001b[39m, onnx_model)\n\u001b[0;32m      7\u001b[0m \u001b[38;5;28;01mclass\u001b[39;00m \u001b[38;5;21;01mMyONNXService\u001b[39;00m(Service):\n\u001b[0;32m      8\u001b[0m     \u001b[38;5;28;01mdef\u001b[39;00m \u001b[38;5;21m__init__\u001b[39m(\u001b[38;5;28mself\u001b[39m):\n",
      "File \u001b[1;32mc:\\Users\\Dell\\AppData\\Local\\Programs\\Python\\Python311\\Lib\\site-packages\\bentoml\\_internal\\utils\\lazy_loader.py:71\u001b[0m, in \u001b[0;36mLazyLoader.__getattr__\u001b[1;34m(self, item)\u001b[0m\n\u001b[0;32m     69\u001b[0m \u001b[38;5;28;01mdef\u001b[39;00m \u001b[38;5;21m__getattr__\u001b[39m(\u001b[38;5;28mself\u001b[39m, item: t\u001b[38;5;241m.\u001b[39mAny) \u001b[38;5;241m-\u001b[39m\u001b[38;5;241m>\u001b[39m t\u001b[38;5;241m.\u001b[39mAny:\n\u001b[0;32m     70\u001b[0m     \u001b[38;5;28;01mif\u001b[39;00m \u001b[38;5;28mself\u001b[39m\u001b[38;5;241m.\u001b[39m_module \u001b[38;5;129;01mis\u001b[39;00m \u001b[38;5;28;01mNone\u001b[39;00m:\n\u001b[1;32m---> 71\u001b[0m         \u001b[38;5;28mself\u001b[39m\u001b[38;5;241m.\u001b[39m_module \u001b[38;5;241m=\u001b[39m \u001b[38;5;28;43mself\u001b[39;49m\u001b[38;5;241;43m.\u001b[39;49m\u001b[43m_load\u001b[49m\u001b[43m(\u001b[49m\u001b[43m)\u001b[49m\n\u001b[0;32m     72\u001b[0m     \u001b[38;5;28;01mreturn\u001b[39;00m \u001b[38;5;28mgetattr\u001b[39m(\u001b[38;5;28mself\u001b[39m\u001b[38;5;241m.\u001b[39m_module, item)\n",
      "File \u001b[1;32mc:\\Users\\Dell\\AppData\\Local\\Programs\\Python\\Python311\\Lib\\site-packages\\bentoml\\_internal\\utils\\lazy_loader.py:50\u001b[0m, in \u001b[0;36mLazyLoader._load\u001b[1;34m(self)\u001b[0m\n\u001b[0;32m     48\u001b[0m \u001b[38;5;66;03m# Import the target module and insert it into the parent's namespace\u001b[39;00m\n\u001b[0;32m     49\u001b[0m \u001b[38;5;28;01mtry\u001b[39;00m:\n\u001b[1;32m---> 50\u001b[0m     module \u001b[38;5;241m=\u001b[39m \u001b[43mimportlib\u001b[49m\u001b[38;5;241;43m.\u001b[39;49m\u001b[43mimport_module\u001b[49m\u001b[43m(\u001b[49m\u001b[38;5;28;43mself\u001b[39;49m\u001b[38;5;241;43m.\u001b[39;49m\u001b[38;5;18;43m__name__\u001b[39;49m\u001b[43m)\u001b[49m\n\u001b[0;32m     51\u001b[0m     \u001b[38;5;28mself\u001b[39m\u001b[38;5;241m.\u001b[39m_parent_module_globals[\u001b[38;5;28mself\u001b[39m\u001b[38;5;241m.\u001b[39m_local_name] \u001b[38;5;241m=\u001b[39m module\n\u001b[0;32m     52\u001b[0m     \u001b[38;5;66;03m# The additional add to sys.modules ensures library is actually loaded.\u001b[39;00m\n",
      "File \u001b[1;32mc:\\Users\\Dell\\AppData\\Local\\Programs\\Python\\Python311\\Lib\\importlib\\__init__.py:126\u001b[0m, in \u001b[0;36mimport_module\u001b[1;34m(name, package)\u001b[0m\n\u001b[0;32m    124\u001b[0m             \u001b[38;5;28;01mbreak\u001b[39;00m\n\u001b[0;32m    125\u001b[0m         level \u001b[38;5;241m+\u001b[39m\u001b[38;5;241m=\u001b[39m \u001b[38;5;241m1\u001b[39m\n\u001b[1;32m--> 126\u001b[0m \u001b[38;5;28;01mreturn\u001b[39;00m \u001b[43m_bootstrap\u001b[49m\u001b[38;5;241;43m.\u001b[39;49m\u001b[43m_gcd_import\u001b[49m\u001b[43m(\u001b[49m\u001b[43mname\u001b[49m\u001b[43m[\u001b[49m\u001b[43mlevel\u001b[49m\u001b[43m:\u001b[49m\u001b[43m]\u001b[49m\u001b[43m,\u001b[49m\u001b[43m \u001b[49m\u001b[43mpackage\u001b[49m\u001b[43m,\u001b[49m\u001b[43m \u001b[49m\u001b[43mlevel\u001b[49m\u001b[43m)\u001b[49m\n",
      "File \u001b[1;32m<frozen importlib._bootstrap>:1206\u001b[0m, in \u001b[0;36m_gcd_import\u001b[1;34m(name, package, level)\u001b[0m\n",
      "File \u001b[1;32m<frozen importlib._bootstrap>:1178\u001b[0m, in \u001b[0;36m_find_and_load\u001b[1;34m(name, import_)\u001b[0m\n",
      "File \u001b[1;32m<frozen importlib._bootstrap>:1149\u001b[0m, in \u001b[0;36m_find_and_load_unlocked\u001b[1;34m(name, import_)\u001b[0m\n",
      "File \u001b[1;32m<frozen importlib._bootstrap>:690\u001b[0m, in \u001b[0;36m_load_unlocked\u001b[1;34m(spec)\u001b[0m\n",
      "File \u001b[1;32m<frozen importlib._bootstrap_external>:940\u001b[0m, in \u001b[0;36mexec_module\u001b[1;34m(self, module)\u001b[0m\n",
      "File \u001b[1;32m<frozen importlib._bootstrap>:241\u001b[0m, in \u001b[0;36m_call_with_frames_removed\u001b[1;34m(f, *args, **kwds)\u001b[0m\n",
      "File \u001b[1;32mc:\\Users\\Dell\\AppData\\Local\\Programs\\Python\\Python311\\Lib\\site-packages\\bentoml\\_internal\\frameworks\\onnx.py:37\u001b[0m\n\u001b[0;32m     35\u001b[0m     \u001b[38;5;28;01mfrom\u001b[39;00m \u001b[38;5;21;01m.\u001b[39;00m\u001b[38;5;21;01mutils\u001b[39;00m\u001b[38;5;21;01m.\u001b[39;00m\u001b[38;5;21;01monnx\u001b[39;00m \u001b[38;5;28;01mimport\u001b[39;00m gen_input_casting_func\n\u001b[0;32m     36\u001b[0m \u001b[38;5;28;01mexcept\u001b[39;00m \u001b[38;5;167;01mImportError\u001b[39;00m:  \u001b[38;5;66;03m# pragma: no cover\u001b[39;00m\n\u001b[1;32m---> 37\u001b[0m     \u001b[38;5;28;01mraise\u001b[39;00m MissingDependencyException(\n\u001b[0;32m     38\u001b[0m         \u001b[38;5;124m\"\u001b[39m\u001b[38;5;124monnx is required in order to use module \u001b[39m\u001b[38;5;124m'\u001b[39m\u001b[38;5;124mbentoml.onnx\u001b[39m\u001b[38;5;124m'\u001b[39m\u001b[38;5;124m, install onnx with \u001b[39m\u001b[38;5;124m'\u001b[39m\u001b[38;5;124mpip install onnx\u001b[39m\u001b[38;5;124m'\u001b[39m\u001b[38;5;124m. For more information, refer to https://onnx.ai/get-started.html\u001b[39m\u001b[38;5;124m\"\u001b[39m\n\u001b[0;32m     39\u001b[0m     )\n\u001b[0;32m     41\u001b[0m \u001b[38;5;28;01mtry\u001b[39;00m:\n\u001b[0;32m     42\u001b[0m     \u001b[38;5;28;01mimport\u001b[39;00m \u001b[38;5;21;01monnxruntime\u001b[39;00m \u001b[38;5;28;01mas\u001b[39;00m \u001b[38;5;21;01mort\u001b[39;00m\n",
      "\u001b[1;31mMissingDependencyException\u001b[0m: onnx is required in order to use module 'bentoml.onnx', install onnx with 'pip install onnx'. For more information, refer to https://onnx.ai/get-started.html"
     ]
    }
   ],
   "source": [
    "import bentoml\n",
    "\n",
    "# Save the model in BentoML\n",
    "bentoml.onnx.save_model('onnx_model', onnx_model)\n",
    "\n",
    "\n",
    "class MyONNXService(Service):\n",
    "    def __init__(self):\n",
    "        self.model = load_model('onnx_model')\n",
    "\n",
    "    def predict(self, input_data):\n",
    "        # Process input_data and make predictions\n",
    "        return self.model.predict(input_data)\n",
    "\n",
    "\n",
    "onnx_runner = bentoml.onnx.get('onnx_model').to_runner()\n",
    "\n",
    "# Определение сервиса\n",
    "svc = Service(name=\"onnx_service\", runners=[onnx_runner])\n",
    "\n",
    "# Определение эндпоинта для предсказаний\n",
    "@svc.api(input=NumpyNdarray(), output=NumpyNdarray())\n",
    "def predict(input_data: np.ndarray) -> np.ndarray:\n",
    "    # Передача данных в модель через runner\n",
    "    return onnx_runner.run(input_data)"
   ]
  }
 ],
 "metadata": {
  "colab": {
   "provenance": []
  },
  "kernelspec": {
   "display_name": "Python 3",
   "name": "python3"
  },
  "language_info": {
   "codemirror_mode": {
    "name": "ipython",
    "version": 3
   },
   "file_extension": ".py",
   "mimetype": "text/x-python",
   "name": "python",
   "nbconvert_exporter": "python",
   "pygments_lexer": "ipython3",
   "version": "3.11.0"
  }
 },
 "nbformat": 4,
 "nbformat_minor": 0
}
