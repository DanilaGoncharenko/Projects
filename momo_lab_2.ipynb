{
  "nbformat": 4,
  "nbformat_minor": 0,
  "metadata": {
    "colab": {
      "provenance": []
    },
    "kernelspec": {
      "name": "python3",
      "display_name": "Python 3"
    },
    "language_info": {
      "name": "python"
    }
  },
  "cells": [
    {
      "cell_type": "markdown",
      "source": [
        "# Лабораторная работа 2: Использование численных методов в задачах оптимизации\n",
        "\n",
        "\n",
        "---\n",
        "\n",
        "Работу выполнили:\n",
        "\n",
        "*   Кудрявцев Роман\n",
        "*   Гончаренко Данила\n",
        "*   Зыков Егор\n",
        "*   Тарлецкий Александр"
      ],
      "metadata": {
        "id": "-1OXe9Nqay33"
      }
    },
    {
      "cell_type": "markdown",
      "source": [
        "### 1.1 Реализация алгоритмов BFGS и L-BFGS"
      ],
      "metadata": {
        "id": "9lYAYJH39i0e"
      }
    },
    {
      "cell_type": "markdown",
      "source": [
        "## 1. Поиск минимума функции:\n",
        "\n",
        "$$\n",
        "\\begin{equation*}\n",
        "f(x) = \\frac{1}{2} \\left[ (x_1)^2 + \\sum_{i=1}^{2} (x_i - x_{i+1})^2 + (x_3)^2 \\right] - x_1\n",
        "\\end{equation*}\n",
        "$$\n",
        "\n",
        "### Представление применимости алгоритмов BFGS и L-BFGS к данной оптимизационной задаче\n",
        "\n",
        "Для того, чтобы алгоритм BFGS можно было применить к задаче оптимизации, функция должна быть дважды дифференцируемой на всей области определения $f(x)$ и выпуклой. Тогда по существующим определению (дважды дифф. функции) и критерию (ниже) достаточно будет вычислить матрицу вторых производных.\n",
        "\n",
        "(Критерий выпуклости функции на основе $H(f)$) Если матрица Гессе $H(f)$ (матрица вторых производных) положительно (полу)определена, то функция f (строго) выпукла.\n",
        "\n",
        "\\begin{equation*}\n",
        "\\nabla f(x) =\n",
        "\\begin{bmatrix}\n",
        " 2x_1-x_2-1 \\\\\n",
        " -x_1+2x_2-x_3 \\\\\n",
        " -x_2+2x_3 \\\\\n",
        "\\end{bmatrix}^T\n",
        "\\end{equation*}\n",
        "\n",
        "\\begin{equation*}\n",
        "H(f) =\n",
        "\\begin{bmatrix}\n",
        " 2 & -1 & 0 \\\\\n",
        " -1 & 2 & -1 \\\\\n",
        " 0 & -1 & 2 \\\\\n",
        "\\end{bmatrix}\n",
        "\\end{equation*}\n",
        "\n",
        "\\begin{equation*}\n",
        "\\sigma_1 = 2 > 0\n",
        "\\end{equation*}\n",
        "\n",
        "\\begin{equation*}\n",
        "\\sigma_2 = \\left| \\begin{matrix} 2 & -1 \\\\ -1 & 2 \\end{matrix} \\right| = 3 > 0\n",
        "\\end{equation*}\n",
        "\n",
        "\\begin{equation*}\n",
        "\\sigma_3 = 2 \\cdot \\left| \\begin{matrix} 2 & -1 \\\\ -1 & 2 \\end{matrix} \\right| + \\left| \\begin{matrix} -1 & -1 \\\\ 0 & 2 \\end{matrix} \\right| = 6 - 2 = 4 > 0\n",
        "\\end{equation*}"
      ],
      "metadata": {
        "id": "9WSmq4x2oxvj"
      }
    },
    {
      "cell_type": "code",
      "source": [
        "import numpy as np\n",
        "import typing as tp\n",
        "import matplotlib.pyplot as plt\n",
        "import scipy, time\n",
        "from scipy.special import expit\n",
        "from sklearn.metrics import log_loss\n",
        "from sklearn.datasets import make_classification\n",
        "from sklearn.linear_model import LogisticRegression\n",
        "from sklearn.model_selection import train_test_split"
      ],
      "metadata": {
        "id": "w386zk4C9xNN"
      },
      "execution_count": null,
      "outputs": []
    },
    {
      "cell_type": "markdown",
      "source": [
        "Изменим вид исходной функции:\n",
        "\n",
        "$f(x) = \\frac{1}{2} \\left[ (x_1)^2 + \\sum_{i=1}^{2} (x_i - x_{i+1})^2 + (x_3)^2 \\right] - x_1 = x_1^2 + x_2^2 + x_3^2 - x_1 - x_1x_2 - x_2x_3$"
      ],
      "metadata": {
        "id": "dEM1GwtA_KTU"
      }
    },
    {
      "cell_type": "code",
      "source": [
        "def f(x):\n",
        "    return x[0]**2 + x[1]**2 + x[2]**2 - x[0] - x[0]*x[1] - x[1]*x[2]"
      ],
      "metadata": {
        "id": "Sqm2lPOh_el0"
      },
      "execution_count": null,
      "outputs": []
    },
    {
      "cell_type": "markdown",
      "source": [
        "Аналитическое определение градиента:"
      ],
      "metadata": {
        "id": "F6hPYejC__67"
      }
    },
    {
      "cell_type": "code",
      "source": [
        "def anal_graf(f, x):\n",
        "    dfdx1 = 2 * x[0] - x[1] - 1\n",
        "    dfdx2 = 2 * x[1] - x[0] - x[2]\n",
        "    dfdx3 = 2 * x[2] - x[1]\n",
        "    return np.array([dfdx1, dfdx2, dfdx3])"
      ],
      "metadata": {
        "id": "VZpvcnKNAIqD"
      },
      "execution_count": null,
      "outputs": []
    },
    {
      "cell_type": "markdown",
      "source": [
        "Численное определение гардиента:\n"
      ],
      "metadata": {
        "id": "1HjubKScAwg3"
      }
    },
    {
      "cell_type": "code",
      "source": [
        "def num_graf(f, x, h=1e-5):\n",
        "    ngrad = np.zeros_like(x)\n",
        "    for i in range(len(x)):\n",
        "        h_e = np.zeros_like(x)\n",
        "        h_e[i] = h\n",
        "        ngrad[i] = (f(x + h_e) - f(x - h_e)) / (2 * h)\n",
        "    return ngrad"
      ],
      "metadata": {
        "id": "pWuPRMoLBQoW"
      },
      "execution_count": null,
      "outputs": []
    },
    {
      "cell_type": "markdown",
      "source": [
        "Очевидно, что если есть возможность аналитически вычислить градиент, то это следует делать. Но не всегда функция представлена явно, а методы оптимизации применять необходимо. В таких случаях приходится прибегать к численному приближению градиента. Возникает вопрос: насколько точным будет такое приближение? Давайте возьмём несколько точек, вычислим градиент аналитически и с помощью конечно-разностной аппроксимации, а затем сравним результаты по средней абсолютной ошибке."
      ],
      "metadata": {
        "id": "9cYXEEl2CuNA"
      }
    },
    {
      "cell_type": "code",
      "source": [
        "f_points = 50\n",
        "\n",
        "x1 = np.linspace(-1, 1, f_points)\n",
        "x2 = np.linspace(1, 3, f_points)\n",
        "x3 = np.linspace(-3, -1, f_points)\n",
        "\n",
        "points = np.array(list(zip(x1, x2, x3)))\n",
        "\n",
        "mean_abs_er = np.mean([\n",
        "    np.abs(num_graf(f, points[i]) - anal_graf(f, points[i]))\n",
        "    for i in range(f_points)\n",
        "])\n",
        "\n",
        "print(f'Mean absolute error is {mean_abs_er}')"
      ],
      "metadata": {
        "id": "uJXi5UlAC1je",
        "colab": {
          "base_uri": "https://localhost:8080/"
        },
        "outputId": "04cdde30-2247-410c-efad-2082fd5cfc56"
      },
      "execution_count": null,
      "outputs": [
        {
          "output_type": "stream",
          "name": "stdout",
          "text": [
            "Mean absolute error is 6.128308231249472e-11\n"
          ]
        }
      ]
    },
    {
      "cell_type": "markdown",
      "source": [
        "Таким образом, при достаточно малых изменениях аргумента численное приближение может успешно заменить аналитическое вычисление. Особенно это важно в ситуациях, когда невозможно найти градиент аналитически, а численное приближение необходимо применить.\n",
        "Теперь перейдем к нахождению минимума функции, используя то\n",
        "определение градиента, которое доступно.\n",
        "Для вычисления приближаемого решения используется соотношение $\\mathbf{x}_{k+1} = x_k + a_kp_k$, где $a_k$ задает шаг обновления, который должен\n",
        "удовлетворять условиям Вольфе. Для чего это необходимо?\n",
        "\n",
        "В первую очередь, недостаточно условия $f(x_k + a_kp_k) < f(k)$.\n",
        "Это наглядно демонстрирует пример: $f^* = -1$, но $f_k = 1/k$, где $\\lim_{k ⟶ inf} {f_k}=0$.\n",
        "\n",
        "Так же нам необходимо учитывать градиент. Если его значение не равно нулю, то он может способствовать уменьшению функции от текущей точки. Проследим за тем, чтобы следующее значение уменьшалось с учетом вклада градиента:\n",
        "1.  $f(x_k + a_kp_k) \\leq f(x_k) + c_1a_k\\nabla f_k^Tp_k$\n",
        "\n",
        "Значений $a_k$, удовлетворяющих первому условию, может быть много. Чтобы добиться максимального уменьшения функции, следует дополнительно потребовать, чтобы градиент в следующей точке был меньше по наклону, чем в текущей. Это логично, поскольку уменьшение наклона приближает к оптимальному значению.\n",
        "2.  $\\left| \\nabla f(x_k + a_kp_k)^T p_k \\right| \\leq c_2\\left| \\nabla f_k^T p_k \\right|$\n",
        "\n",
        "Направление поиска $p_k$ определяется в зависимости от выбранного метода оптимизации. Это может быть простой градиентный спуск или методы второго порядка, такие как ньютоновские или квазиньютоновские. Метод BFGS и его улучшенная версия L-BFGS относятся к методам второго порядка, поэтому направление поиска задаётся как $p_k = [\\nabla f_k^2]^{-1} \\nabla f_k$\n",
        "\n",
        "Условия 1 и 2 называются усиленными условиями Вольфе (когда нам были даны \"обычные\" (без слова \"усиленные\") условия Вольфе). Далее мы их и использовали. Источник: Wolfe, P. \"Convergence Conditions for Ascent Methods\" (1969), \"Convergence Conditions for Ascent Methods. II: Some Corrections\" (1971)"
      ],
      "metadata": {
        "id": "n4TiabS5bcRB"
      }
    },
    {
      "cell_type": "code",
      "source": [
        "def zoom_wolf(f, num_graf, x, p, a_lo, a_hi, c1 = 1e-4, c2 = 0.9, eps = 1e-4):\n",
        "    phi = lambda a: f(x + a*p)\n",
        "    while True:\n",
        "        a = (a_lo + a_hi) / 2\n",
        "        if np.abs(a_hi - a_lo) < eps:\n",
        "            return\n",
        "\n",
        "        if phi(a) > phi(0) + c1 * a * num_graf(f,x).T @ p or phi(a) >= phi(a_lo):\n",
        "            a_hi = a\n",
        "        else:\n",
        "            ngrad = num_graf(f, x + a * p)\n",
        "            if np.abs(ngrad.T @ p) <= c2 * np.abs(num_graf(f,x).T @ p):\n",
        "                return a\n",
        "            if ngrad.T @ p * (a_hi - a_lo) >= 0.0:\n",
        "                a_hi = a_lo\n",
        "\n",
        "            a_lo = a\n",
        "\n",
        "def search_wolf(f, num_graf, x, p, c1 = 1e-4, c2 = 0.9, a_max = 1e5):\n",
        "    a0 = 0.0\n",
        "    a1 = (a0 + a_max)/2\n",
        "    phi = lambda a: f(x+a*p)\n",
        "\n",
        "    while True:\n",
        "        if phi(a1) > phi(0) + c1 * a1 * num_graf(f, x).T @ p or phi(a1) >= phi(a0):\n",
        "            return zoom_wolf(f, num_graf, x, p, a0, a1)\n",
        "\n",
        "        ngrad = num_graf(f, x + a1 * p)\n",
        "        if np.abs(ngrad.T @ p) <= c2 * np.abs(num_graf(f,x).T @ p):\n",
        "            return a1\n",
        "        if ngrad.T @ p >= 0.0:\n",
        "            return zoom_wolf(f, num_graf, x, p, a1, a0)\n",
        "\n",
        "        a0 = a1\n",
        "        a1 = (a1 + a_max) / 2"
      ],
      "metadata": {
        "id": "Qjz8gZZWbuHM"
      },
      "execution_count": null,
      "outputs": []
    },
    {
      "cell_type": "markdown",
      "source": [
        "### 1.2 Реализация алгоритма BFGS\n",
        "\n",
        "В стандартной версии алгоритма обновление Гессиана происходит последующей формуле:\n",
        "\n",
        "$H_{k+1} = (I - p_k s_k y_k^T)H_k(I - p_k y_k s_k^T) + p_k s_k s_k^T$, где $p_k = \\frac{1}{y_k^T s_k}$\n",
        "\n",
        "Это значит, что на каждой итерации алгоритма происходит полное обновление Гессиана (приближенное). В связи с этим, при обработке большого обЪёма данных работа алгоритма значительно замедляется."
      ],
      "metadata": {
        "id": "cBwtTlmdbkTn"
      }
    },
    {
      "cell_type": "code",
      "source": [
        "def hes(f, H, x0, x1):\n",
        "    I = np.eye(len(x0))\n",
        "    s = x1 - x0\n",
        "    y = num_graf(f, x1) - num_graf(f, x0)\n",
        "    p = 1. / (y.T @ s)\n",
        "\n",
        "    m = p * (s[:, np.newaxis] @ y[np.newaxis, :])\n",
        "    n = p * (y[:, np.newaxis] @ s[np.newaxis, :])\n",
        "    k = p * (s[:, np.newaxis] @ s[np.newaxis, :])\n",
        "\n",
        "    H = (I - m) @ H @ (I - n) + k\n",
        "    return H"
      ],
      "metadata": {
        "id": "2dwCooOahAuu"
      },
      "execution_count": null,
      "outputs": []
    },
    {
      "cell_type": "code",
      "source": [
        "def bfgs(f, x0, num_graf = num_graf, step_searcher = search_wolf, epsilon = 1e-9, max_iter = 100):\n",
        "    k = 0\n",
        "    H = np.eye(len(x0))\n",
        "    ngrad = num_graf(f, x0)\n",
        "\n",
        "    log = []\n",
        "    while np.linalg.norm(ngrad) > epsilon and k < max_iter:\n",
        "        p = -(H @ ngrad)\n",
        "        a = step_searcher(f, num_graf, x0, p)\n",
        "        if not a:\n",
        "            break\n",
        "        x1 = x0 + a * p\n",
        "        H = hes(f, H, x0, x1)\n",
        "        x0 = x1\n",
        "        ngrad = num_graf(f, x0)\n",
        "\n",
        "        log.append(f(x0))\n",
        "        k += 1\n",
        "\n",
        "    return x0, log"
      ],
      "metadata": {
        "id": "e7PxUFSQh4jk"
      },
      "execution_count": null,
      "outputs": []
    },
    {
      "cell_type": "markdown",
      "source": [
        "Для нахождения величины шага применяется линейный поиск, который удовлетворяет условиям Вольфе. Ранее были приведены аргументы, объясняющие целесообразность такого подхода. Далее рассмотрим, как изменяется сходимость при различных значениях шага.\n",
        "\n",
        "\n",
        "\n",
        "\n",
        "\n",
        "\n"
      ],
      "metadata": {
        "id": "tWCc16gSmp5-"
      }
    },
    {
      "cell_type": "code",
      "source": [
        "x, xlog = bfgs(f, np.random.rand(3), num_graf = num_graf, step_searcher = search_wolf)"
      ],
      "metadata": {
        "id": "AOKjCmesmj7c"
      },
      "execution_count": null,
      "outputs": []
    },
    {
      "cell_type": "markdown",
      "source": [
        "Добавим несколько параметров с неизменным шагом и случайным поиском"
      ],
      "metadata": {
        "id": "nF6i34h8oRFs"
      }
    },
    {
      "cell_type": "code",
      "source": [
        "def step_rand(f, num_graf, x, p):\n",
        "    return np.random.rand()\n",
        "\n",
        "def step_const_0(f, num_graf, x, p):\n",
        "    return 0.01\n",
        "\n",
        "def step_const_1(f, num_graf, x, p):\n",
        "    return 0.1\n",
        "\n",
        "def step_const_2(f, num_graf, x, p):\n",
        "    return 0.8"
      ],
      "metadata": {
        "id": "1_HW-nmVn3fh"
      },
      "execution_count": null,
      "outputs": []
    },
    {
      "cell_type": "code",
      "source": [
        "fig, ax = plt.subplots(figsize = (8, 4))\n",
        "ax.plot(xlog[:10], label = \"Поиск Вольфе\")\n",
        "\n",
        "steps = {\n",
        "    'Шаг = 0.01': step_const_0,\n",
        "    'Шаг = 0.1': step_const_1,\n",
        "    'Шаг = 0.8': step_const_2,\n",
        "    'Случайный шаг': step_rand\n",
        "}\n",
        "\n",
        "for name, func in steps.items():\n",
        "    y, ylog = bfgs(f, np.random.rand(3), num_graf= num_graf, step_searcher= func)\n",
        "    ax.plot(ylog[:10], label = name)\n",
        "\n",
        "ax.set_title('Сходимость функции в зависимости от метода пошагового обновления')\n",
        "ax.set_xlabel('Число итераций', fontsize = 12)\n",
        "ax.set_ylabel('Значение функции', fontsize = 12)\n",
        "\n",
        "plt.legend()\n",
        "plt.show()"
      ],
      "metadata": {
        "colab": {
          "base_uri": "https://localhost:8080/",
          "height": 414
        },
        "id": "JYAfUwoMoa3e",
        "outputId": "be02186c-c330-45ad-c4d7-4222bebae91d"
      },
      "execution_count": null,
      "outputs": [
        {
          "output_type": "display_data",
          "data": {
            "text/plain": [
              "<Figure size 800x400 with 1 Axes>"
            ],
            "image/png": "[encoded data removed]"
          },
          "metadata": {}
        }
      ]
    },
    {
      "cell_type": "markdown",
      "source": [
        "Таким образом шаг обновления, задаваемый согласно условиям Вольфе,\n",
        "помогает не просто сходиться (в примере сходимость есть в любом случае,\n",
        "но при константном шаге вообще говоря может не достигаться, см. контпример из блока про условия Вольфе), но и делает это за меньшее число итераций."
      ],
      "metadata": {
        "id": "L3pvNkUMpbuQ"
      }
    },
    {
      "cell_type": "markdown",
      "source": [
        "### 1.3 Реализация алгоритма L-BFGS\n",
        "\n",
        "Чтобы решить проблему работы с большими матрицами была разработана упрощённая версия алгоритма — L-BFGS (limited memory BFGS). Главное отличие этой версии в том, что на каждой итерации функция поиска направления не пересчитывает весь Гессиан. Вместо этого его оценивают, используя заранее определённое количество пар векторов $\\left\\{s_i, y_i \\right\\}$.\n",
        "\n",
        "Количество рекомендованных пар к использованию $m = 3.. 20$."
      ],
      "metadata": {
        "id": "F4Fv3R3qq6DC"
      }
    },
    {
      "cell_type": "code",
      "source": [
        "def two_loop_rec(ngrad, Hk0, vectors, ro, j, m):\n",
        "    q = ngrad\n",
        "    alphas = []\n",
        "\n",
        "    for pair in vectors:\n",
        "        alpha = pair[2] * (pair[0].T @ q)\n",
        "        q = q - alpha * pair[1]\n",
        "        alphas.append(alpha)\n",
        "\n",
        "    r = Hk0 @ q\n",
        "\n",
        "    for (pair, alpha) in zip(reversed(vectors), reversed(alphas)):\n",
        "        beta = pair[2] * (pair[1].T @ r)\n",
        "        r += pair[0] * (alpha - beta)\n",
        "\n",
        "    return -r"
      ],
      "metadata": {
        "id": "ch98cV-Lq_rg"
      },
      "execution_count": null,
      "outputs": []
    },
    {
      "cell_type": "code",
      "source": [
        "def l_bfgs(f, x0, num_graf = num_graf, epsilon = 1e-9, max_iter = 100, m = 10):\n",
        "    k = 0\n",
        "    vector_pairs = []\n",
        "    ngrad = num_graf(f, x0)\n",
        "    n = np.shape(ngrad)[0]\n",
        "    s = np.concatenate((np.array([1]), np.zeros(n - 1, dtype=int)))\n",
        "    y = np.concatenate((np.array([1]), np.zeros(n - 1, dtype=int)))\n",
        "    p = 1 / (s.T @ y)\n",
        "    vector_pairs.append((s, y, p))\n",
        "    I = np.eye(n)\n",
        "\n",
        "    log = []\n",
        "\n",
        "    while np.linalg.norm(ngrad) > epsilon and k < max_iter:\n",
        "        gamma = (s.T @ y) / (y.T @ y)\n",
        "        H = gamma * I\n",
        "        p = two_loop_rec(ngrad, H, vector_pairs, p, k, m)\n",
        "        a = search_wolf(f, num_graf, x0, p)\n",
        "        if not a:\n",
        "            break\n",
        "        x1 = x0 + a * p\n",
        "\n",
        "        if k > m:\n",
        "            vector_pairs.pop(0)\n",
        "\n",
        "        s = x1 - x0\n",
        "        y = num_graf(f, x1) - num_graf(f, x0)\n",
        "        p = 1. / (y.T @ s)\n",
        "        x0 = x1\n",
        "\n",
        "        vector_pairs.append((s, y, p))\n",
        "\n",
        "        ngrad = num_graf(f, x0)\n",
        "\n",
        "        log.append(f(x0))\n",
        "        k+= 1\n",
        "\n",
        "    return x0, log"
      ],
      "metadata": {
        "id": "Sw3YaREOsAVU"
      },
      "execution_count": null,
      "outputs": []
    },
    {
      "cell_type": "markdown",
      "source": [
        "### 1.4 Сравнение алгоритмов BFGS и L-BFGS\n",
        "\n",
        "Будем сравнивать алгоритмы по времени выполнения и величине ошибки после обучения.\n",
        "\n",
        "Для L-BFGS вариативным параметром будет выступать количество сохраняемых пар векторов."
      ],
      "metadata": {
        "id": "XpHRsZh5uYBM"
      }
    },
    {
      "cell_type": "code",
      "source": [
        "def get_stat(optimizer, f, num_graf, n_experiments = 100, m = 10):\n",
        "    times, xs = [], []\n",
        "    for i in range(n_experiments):\n",
        "        x0 = np.random.rand(3)\n",
        "        start_time = time.time()\n",
        "        x, logs = optimizer(f, x0, num_graf = num_graf)\n",
        "        times.append(time.time() - start_time)\n",
        "        xs.append(x)\n",
        "\n",
        "    return np.mean(times), np.mean(xs, axis = 0)\n",
        "\n",
        "def report(a, t, x):\n",
        "    print(f\"Среднее время выполнения {a} = {t}ms. Средний минимум {x}\")"
      ],
      "metadata": {
        "id": "ahZlemVxu6Gh"
      },
      "execution_count": null,
      "outputs": []
    },
    {
      "cell_type": "markdown",
      "source": [
        "Запустим несколько экспериментов и сравним характеристики"
      ],
      "metadata": {
        "id": "dqdCGGSbwOc_"
      }
    },
    {
      "cell_type": "code",
      "source": [
        "t1, x1 = get_stat(bfgs, f, num_graf)\n",
        "t2, x2 = get_stat(l_bfgs, f, num_graf, m = 10)\n",
        "t3, x3 = get_stat(l_bfgs, f, num_graf, m = 5)\n",
        "t4, x4 = get_stat(l_bfgs, f, num_graf, m = 3)\n",
        "t5, x5 = get_stat(l_bfgs, f, num_graf, m = 1)"
      ],
      "metadata": {
        "id": "gzqOq5YRu6Qz"
      },
      "execution_count": null,
      "outputs": []
    },
    {
      "cell_type": "code",
      "source": [
        "report(\"BFGS\", t1, x1)\n",
        "report(\"L-BFGS\", t2, x2)\n",
        "report(\"L-BFGS\", t3, x3)\n",
        "report(\"L-BFGS\", t4, x4)\n",
        "report(\"L-BFGS\", t5, x5)"
      ],
      "metadata": {
        "colab": {
          "base_uri": "https://localhost:8080/"
        },
        "id": "pCYpaThsufo7",
        "outputId": "827d8248-e092-488a-af7f-a853809fc78c"
      },
      "execution_count": null,
      "outputs": [
        {
          "output_type": "stream",
          "name": "stdout",
          "text": [
            "Среднее время выполнения BFGS = 0.025964252948760987ms. Средний минимум [0.75 0.5  0.25]\n",
            "Среднее время выполнения L-BFGS = 0.0482629656791687ms. Средний минимум [0.75 0.5  0.25]\n",
            "Среднее время выполнения L-BFGS = 0.030750067234039308ms. Средний минимум [0.75 0.5  0.25]\n",
            "Среднее время выполнения L-BFGS = 0.031260092258453366ms. Средний минимум [0.75 0.5  0.25]\n",
            "Среднее время выполнения L-BFGS = 0.030582706928253173ms. Средний минимум [0.75 0.5  0.25]\n"
          ]
        }
      ]
    },
    {
      "cell_type": "markdown",
      "source": [
        "Для всех алгоритмов полученные минимумы совпали. Можно заметить, что обычный BFGS работает быстрее. Однако этот вывод справедлив только для данной функции, и в других случаях результат может быть иным."
      ],
      "metadata": {
        "id": "k9PFPFN6yG9E"
      }
    },
    {
      "cell_type": "markdown",
      "source": [
        "Посмотрим такой же отчёт при градиенте, заданном аналитически"
      ],
      "metadata": {
        "id": "RywsSR-UyyuT"
      }
    },
    {
      "cell_type": "code",
      "source": [
        "t1, x1 = get_stat(bfgs, f, anal_graf)\n",
        "t2, x2 = get_stat(l_bfgs, f, anal_graf, m = 10)\n",
        "t3, x3 = get_stat(l_bfgs, f, anal_graf, m = 5)\n",
        "t4, x4 = get_stat(l_bfgs, f, anal_graf, m = 3)\n",
        "t5, x5 = get_stat(l_bfgs, f, anal_graf, m = 1)"
      ],
      "metadata": {
        "id": "7UeO374yynOS"
      },
      "execution_count": null,
      "outputs": []
    },
    {
      "cell_type": "code",
      "source": [
        "report(\"BFGS\", t1, x1)\n",
        "report(\"L-BFGS\", t2, x2)\n",
        "report(\"L-BFGS\", t3, x3)\n",
        "report(\"L-BFGS\", t4, x4)\n",
        "report(\"L-BFGS\", t5, x5)"
      ],
      "metadata": {
        "colab": {
          "base_uri": "https://localhost:8080/"
        },
        "id": "URevadpay9Lh",
        "outputId": "624b4760-e208-49cb-d35b-28e53fedfbbd"
      },
      "execution_count": null,
      "outputs": [
        {
          "output_type": "stream",
          "name": "stdout",
          "text": [
            "Среднее время выполнения BFGS = 0.012031152248382568ms. Средний минимум [0.75 0.5  0.25]\n",
            "Среднее время выполнения L-BFGS = 0.013978271484375ms. Средний минимум [0.75 0.5  0.25]\n",
            "Среднее время выполнения L-BFGS = 0.013329193592071534ms. Средний минимум [0.75 0.5  0.25]\n",
            "Среднее время выполнения L-BFGS = 0.013012959957122802ms. Средний минимум [0.75 0.5  0.25]\n",
            "Среднее время выполнения L-BFGS = 0.015133409500122071ms. Средний минимум [0.75 0.5  0.25]\n"
          ]
        }
      ]
    },
    {
      "cell_type": "markdown",
      "source": [
        "При работе алгоритма с градиентом, заданным аналитически, время выполнения уменьшилось."
      ],
      "metadata": {
        "id": "lZFxvupYzD2e"
      }
    },
    {
      "cell_type": "markdown",
      "source": [
        "## 2. Практическое применение: использование метода оптимизации L-BFGS для решения задачи логистической регрессии"
      ],
      "metadata": {
        "id": "kTFoXp1jzRxj"
      }
    },
    {
      "cell_type": "markdown",
      "source": [
        "### Представление набора данных"
      ],
      "metadata": {
        "id": "9C0EKnTx0a2u"
      }
    },
    {
      "cell_type": "code",
      "source": [
        "X, y = make_classification(n_samples=500, n_features=10, random_state=42)\n",
        "X_train, X_test, y_train, y_test = train_test_split(X, y, test_size=0.33, train_size= 0.67, random_state= 42)"
      ],
      "metadata": {
        "id": "U6vpj7HqziGN"
      },
      "execution_count": null,
      "outputs": []
    },
    {
      "cell_type": "markdown",
      "source": [
        "### Реализация оптимизатора Adam с численным приближением градиентов"
      ],
      "metadata": {
        "id": "2LeTQsE5j9Wq"
      }
    },
    {
      "cell_type": "code",
      "source": [
        "def adam_optimizer(f, w_init, learning_rate=0.01, beta1=0.9, beta2=0.999, epsilon=1e-9, max_iter=100):\n",
        "    \"\"\"\n",
        "    :param f: Функция потерь, принимающая веса и возвращающая скалярную величину.\n",
        "    :param w_init: Начальные веса (numpy массив).\n",
        "    :param learning_rate: Скорость обучения.\n",
        "    :param beta1: Параметр beta1 для моментов.\n",
        "    :param beta2: Параметр beta2 для моментов.\n",
        "    :param epsilon: Маленькое число для предотвращения деления на ноль.\n",
        "    :param max_iter: Максимальное количество итераций.\n",
        "    :return: Оптимизированные веса и лог значений функции потерь.\n",
        "    \"\"\"\n",
        "    w = w_init.copy()\n",
        "    m = np.zeros_like(w)\n",
        "    v = np.zeros_like(w)\n",
        "    log = []\n",
        "    for t in range(1, max_iter + 1):\n",
        "        grad = np.zeros_like(w)\n",
        "        h = 1e-5\n",
        "        for i in range(len(w)):\n",
        "            w_plus = w.copy()\n",
        "            w_minus = w.copy()\n",
        "            w_plus[i] += h\n",
        "            w_minus[i] -= h\n",
        "            grad[i] = (f(w_plus) - f(w_minus)) / (2 * h)\n",
        "\n",
        "        m = beta1 * m + (1 - beta1) * grad\n",
        "        v = beta2 * v + (1 - beta2) * (grad ** 2)\n",
        "\n",
        "        m_hat = m / (1 - beta1 ** t)\n",
        "        v_hat = v / (1 - beta2 ** t)\n",
        "\n",
        "        w -= learning_rate * m_hat / (np.sqrt(v_hat) + epsilon)\n",
        "\n",
        "        loss = f(w)\n",
        "        log.append(loss)\n",
        "\n",
        "        if np.linalg.norm(grad) < 1e-6:\n",
        "            break\n",
        "    return w, log"
      ],
      "metadata": {
        "id": "M6H8s_71j_Ox"
      },
      "execution_count": null,
      "outputs": []
    },
    {
      "cell_type": "markdown",
      "source": [
        "### Реализация логической регрессии"
      ],
      "metadata": {
        "id": "kF2jnr5H0Siy"
      }
    },
    {
      "cell_type": "code",
      "source": [
        "class LogRegression:\n",
        "    def __init__(self, n_features, optimizer = bfgs, loss = log_loss):\n",
        "        self.n_features = n_features\n",
        "        self.w_b = np.random.rand(n_features + 1)\n",
        "        self.optimizer = optimizer\n",
        "        self.loss = loss\n",
        "\n",
        "    def forward(self, data, w_b = None):\n",
        "        if type(w_b) is not np.ndarray:\n",
        "            w_b = self.w_b\n",
        "        return expit(np.dot(data, w_b[:-1]) + w_b[-1])\n",
        "\n",
        "    def train(self, data, labels):\n",
        "        f = lambda w_b: self.loss(labels, self.forward(data, w_b))\n",
        "        w_b, log = self.optimizer(f, self.w_b)\n",
        "        self.log = log\n",
        "        self.w_b = w_b\n",
        "        return"
      ],
      "metadata": {
        "id": "o-oFsKLC0QUf"
      },
      "execution_count": null,
      "outputs": []
    },
    {
      "cell_type": "markdown",
      "source": [
        "### Сравнение характеристик работы алгоритмов"
      ],
      "metadata": {
        "id": "C9zGXBL41yLX"
      }
    },
    {
      "cell_type": "code",
      "source": [
        "bfgs_model = LogRegression(n_features= X.shape[1], optimizer=bfgs)\n",
        "lbfgs_model = LogRegression(n_features=X.shape[1], optimizer=l_bfgs)\n",
        "adam_model = LogRegression(n_features=X.shape[1], optimizer=adam_optimizer)"
      ],
      "metadata": {
        "id": "Cgfu2GRD14oK"
      },
      "execution_count": null,
      "outputs": []
    },
    {
      "cell_type": "markdown",
      "source": [
        "### Сравнение времени обучения"
      ],
      "metadata": {
        "id": "RA77gRf72NSt"
      }
    },
    {
      "cell_type": "code",
      "source": [
        "%%time\n",
        "bfgs_model.train(X_train, y_train)"
      ],
      "metadata": {
        "colab": {
          "base_uri": "https://localhost:8080/"
        },
        "id": "jmKos0x-2RPO",
        "outputId": "3e938b30-81b5-466b-ce5d-e37e79843230"
      },
      "execution_count": null,
      "outputs": [
        {
          "output_type": "stream",
          "name": "stdout",
          "text": [
            "CPU times: user 25.5 s, sys: 98.3 ms, total: 25.6 s\n",
            "Wall time: 25.9 s\n"
          ]
        }
      ]
    },
    {
      "cell_type": "code",
      "source": [
        "%%time\n",
        "lbfgs_model.train(X_train, y_train)"
      ],
      "metadata": {
        "colab": {
          "base_uri": "https://localhost:8080/"
        },
        "id": "tmVGNB9S2oGv",
        "outputId": "c93ba490-1f61-499f-c1f9-91174e6043c3"
      },
      "execution_count": null,
      "outputs": [
        {
          "output_type": "stream",
          "name": "stdout",
          "text": [
            "CPU times: user 22 s, sys: 69.8 ms, total: 22 s\n",
            "Wall time: 22.1 s\n"
          ]
        }
      ]
    },
    {
      "cell_type": "code",
      "source": [
        "%%time\n",
        "adam_model.train(X_train, y_train)"
      ],
      "metadata": {
        "colab": {
          "base_uri": "https://localhost:8080/"
        },
        "id": "MekQjYXDr1M1",
        "outputId": "f371f2d6-e9b6-4e94-c3fc-a1b68dab1113"
      },
      "execution_count": null,
      "outputs": [
        {
          "output_type": "stream",
          "name": "stdout",
          "text": [
            "CPU times: user 2.82 s, sys: 13.8 ms, total: 2.83 s\n",
            "Wall time: 2.83 s\n"
          ]
        }
      ]
    },
    {
      "cell_type": "code",
      "source": [
        "fig, ax = plt.subplots(figsize = (6, 3))\n",
        "\n",
        "ax.plot(bfgs_model.log, label = \"BFGS\")\n",
        "ax.plot(lbfgs_model.log, label = \"LBFGS\")\n",
        "ax.plot(adam_model.log, label = \"Adam\")\n",
        "\n",
        "ax.legend()\n",
        "plt.show()"
      ],
      "metadata": {
        "colab": {
          "base_uri": "https://localhost:8080/",
          "height": 291
        },
        "id": "_y_AlD_82zaM",
        "outputId": "cf735cb5-45e6-441b-9e2e-795276d2a2da"
      },
      "execution_count": null,
      "outputs": [
        {
          "output_type": "display_data",
          "data": {
            "text/plain": [
              "<Figure size 600x300 with 1 Axes>"
            ],
            "image/png": "[encoded data removed]"
          },
          "metadata": {}
        }
      ]
    },
    {
      "cell_type": "markdown",
      "source": [
        "На графике изображена зависимость ошибки от количества итераций. Можно заметить, что алгоритм L-BFGS сходится быстрее стандартного BFGS и кроме того требует меньше времени на обучение."
      ],
      "metadata": {
        "id": "LQdCX7nU1L7C"
      }
    },
    {
      "cell_type": "markdown",
      "source": [
        "### Сравнение величины ошибки"
      ],
      "metadata": {
        "id": "fiRSjxNg1UF8"
      }
    },
    {
      "cell_type": "markdown",
      "source": [
        "Значение ошибки после обучения с BFGS:"
      ],
      "metadata": {
        "id": "SLEcrHVD18sn"
      }
    },
    {
      "cell_type": "code",
      "source": [
        "log_loss(y_test, bfgs_model.forward(X_test))\n"
      ],
      "metadata": {
        "colab": {
          "base_uri": "https://localhost:8080/"
        },
        "id": "CEIr_mVk3bzp",
        "outputId": "ed65faa8-9b9d-4088-c974-2fd500687ea7"
      },
      "execution_count": null,
      "outputs": [
        {
          "output_type": "execute_result",
          "data": {
            "text/plain": [
              "0.3211677045815759"
            ]
          },
          "metadata": {},
          "execution_count": 70
        }
      ]
    },
    {
      "cell_type": "markdown",
      "source": [
        "Значение ошибки после обучения с L-BFGS:\n",
        "\n"
      ],
      "metadata": {
        "id": "m-osZzNK2FKW"
      }
    },
    {
      "cell_type": "code",
      "source": [
        "log_loss(y_test, lbfgs_model.forward(X_test))"
      ],
      "metadata": {
        "colab": {
          "base_uri": "https://localhost:8080/"
        },
        "id": "oWq82x8_3t5p",
        "outputId": "8d6d2f7b-2060-4071-ecaf-3ba35cb9ee98"
      },
      "execution_count": null,
      "outputs": [
        {
          "output_type": "execute_result",
          "data": {
            "text/plain": [
              "0.3211677034778674"
            ]
          },
          "metadata": {},
          "execution_count": 71
        }
      ]
    },
    {
      "cell_type": "markdown",
      "source": [
        "Значение ошибки после обучения с Adam:"
      ],
      "metadata": {
        "id": "QbJRTF7-K7cz"
      }
    },
    {
      "cell_type": "code",
      "source": [
        "log_loss(y_test, adam_model.forward(X_test))"
      ],
      "metadata": {
        "colab": {
          "base_uri": "https://localhost:8080/"
        },
        "id": "ff1rLJfOLJIo",
        "outputId": "2ba75d23-ee9a-4279-d88d-f331907e6418"
      },
      "execution_count": null,
      "outputs": [
        {
          "output_type": "execute_result",
          "data": {
            "text/plain": [
              "0.33304105102428627"
            ]
          },
          "metadata": {},
          "execution_count": 72
        }
      ]
    },
    {
      "cell_type": "markdown",
      "source": [
        "Реализация через LogRegressor:"
      ],
      "metadata": {
        "id": "NfFD9GXJ1xPs"
      }
    },
    {
      "cell_type": "code",
      "source": [
        "sas = LogisticRegression().fit(X_train, y_train)\n",
        "log_loss(y_test, sas.predict_proba(X_test))"
      ],
      "metadata": {
        "colab": {
          "base_uri": "https://localhost:8080/"
        },
        "id": "cHxf1Fb435xM",
        "outputId": "7b195bdd-5134-432d-9853-f548852c0cc8"
      },
      "execution_count": null,
      "outputs": [
        {
          "output_type": "execute_result",
          "data": {
            "text/plain": [
              "0.31525186388257326"
            ]
          },
          "metadata": {},
          "execution_count": 73
        }
      ]
    },
    {
      "cell_type": "markdown",
      "source": [
        "В итоге получается, что логистическая регрессия, оптимизированная при помощи BFGS, L-BFGS, Adam незначительно уcтупает библиотечной по качеству оптимизации.\n"
      ],
      "metadata": {
        "id": "YDS15k8G41eB"
      }
    },
    {
      "cell_type": "markdown",
      "source": [],
      "metadata": {
        "id": "IDb-26P6LyJB"
      }
    }
  ]
}